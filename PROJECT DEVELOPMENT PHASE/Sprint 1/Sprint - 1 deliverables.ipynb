{
 "cells": [
  {
   "cell_type": "markdown",
   "id": "7a0652b0",
   "metadata": {},
   "source": [
    "# Digital Naturalist - AI enabled tool for Biodiversity Researchers\n",
    "\n",
    "# Sprint-1 Deliverables:\n",
    "1. Data Acquisition - Collection and digitalizing data for analysis\n",
    "2. Data Understanding\n",
    "3. Feature Engineering\n",
    "4. Data Augumentation\n",
    "5. Model Building"
   ]
  },
  {
   "cell_type": "code",
   "execution_count": 4,
   "id": "c0358bf2",
   "metadata": {
    "execution": {
     "iopub.execute_input": "2022-11-02T09:59:49.225976Z",
     "iopub.status.busy": "2022-11-02T09:59:49.225616Z",
     "iopub.status.idle": "2022-11-02T09:59:49.230623Z",
     "shell.execute_reply": "2022-11-02T09:59:49.229408Z",
     "shell.execute_reply.started": "2022-11-02T09:59:49.225945Z"
    }
   },
   "outputs": [],
   "source": [
    "import warnings\n",
    "warnings.filterwarnings(\"ignore\")"
   ]
  },
  {
   "cell_type": "code",
   "execution_count": 5,
   "id": "2bc3fcac",
   "metadata": {
    "execution": {
     "iopub.execute_input": "2022-11-02T09:59:49.236596Z",
     "iopub.status.busy": "2022-11-02T09:59:49.235947Z",
     "iopub.status.idle": "2022-11-02T09:59:53.843239Z",
     "shell.execute_reply": "2022-11-02T09:59:53.842154Z",
     "shell.execute_reply.started": "2022-11-02T09:59:49.236567Z"
    }
   },
   "outputs": [],
   "source": [
    "import numpy as np\n",
    "import matplotlib.pyplot as plt\n",
    "import pandas as pd\n",
    "from tensorflow.keras.models import Sequential,Model\n",
    "from tensorflow.keras.layers import Dense,Activation,Dropout,Conv2D,Flatten,MaxPool2D,Reshape,GlobalAveragePooling2D,InputLayer\n",
    "from tensorflow.keras.applications.resnet50 import ResNet50\n",
    "from keras.applications.vgg19 import VGG19\n",
    "from keras.applications.inception_v3 import InceptionV3\n",
    "from tensorflow.keras.applications.resnet50 import preprocess_input\n",
    "from tensorflow.keras.preprocessing import image\n",
    "from tensorflow.keras.preprocessing.image import ImageDataGenerator,load_img,img_to_array\n",
    "from tensorflow.keras.callbacks import EarlyStopping, ReduceLROnPlateau"
   ]
  },
  {
   "cell_type": "code",
   "execution_count": 6,
   "id": "80c32314",
   "metadata": {
    "execution": {
     "iopub.execute_input": "2022-11-02T09:59:53.845634Z",
     "iopub.status.busy": "2022-11-02T09:59:53.844965Z",
     "iopub.status.idle": "2022-11-02T09:59:53.854813Z",
     "shell.execute_reply": "2022-11-02T09:59:53.853147Z",
     "shell.execute_reply.started": "2022-11-02T09:59:53.845587Z"
    }
   },
   "outputs": [],
   "source": [
    "IMAGE_SIZE = [229,229]\n",
    "path = '../input/dn-ai/Digital Naturalist datasss'"
   ]
  },
  {
   "cell_type": "markdown",
   "id": "14a767ff",
   "metadata": {},
   "source": [
    "# About the data\n",
    "**5 Species => 142 sub - classes**\n",
    "1. ANIMALS\n",
    "2. LEAVES\n",
    "3. SEA ANIMALS\n",
    "4. FLOWERS\n",
    "5. BIRDS\n",
    "\n",
    "**Training set** = 17271 images <br>\n",
    "**Testing set** = 7382 images"
   ]
  },
  {
   "cell_type": "markdown",
   "id": "b9b0645b",
   "metadata": {},
   "source": [
    "# Data Augumentation"
   ]
  },
  {
   "cell_type": "code",
   "execution_count": 7,
   "id": "c29d7231",
   "metadata": {
    "execution": {
     "iopub.execute_input": "2022-11-02T09:59:53.861169Z",
     "iopub.status.busy": "2022-11-02T09:59:53.860558Z",
     "iopub.status.idle": "2022-11-02T09:59:53.874241Z",
     "shell.execute_reply": "2022-11-02T09:59:53.873186Z",
     "shell.execute_reply.started": "2022-11-02T09:59:53.861131Z"
    }
   },
   "outputs": [],
   "source": [
    "train_data_gen = ImageDataGenerator(rescale = 1./255,\n",
    "                             shear_range = 0.2,\n",
    "                             zoom_range = 0.2,\n",
    "                             horizontal_flip = True,\n",
    "                             validation_split = 0.30)\n",
    "test_data_gen = ImageDataGenerator(rescale = 1./255,validation_split = 0.30)"
   ]
  },
  {
   "cell_type": "code",
   "execution_count": 8,
   "id": "e8457d0d",
   "metadata": {
    "execution": {
     "iopub.execute_input": "2022-11-02T09:59:53.877688Z",
     "iopub.status.busy": "2022-11-02T09:59:53.877253Z",
     "iopub.status.idle": "2022-11-02T09:59:56.942583Z",
     "shell.execute_reply": "2022-11-02T09:59:56.941521Z",
     "shell.execute_reply.started": "2022-11-02T09:59:53.877652Z"
    }
   },
   "outputs": [
    {
     "name": "stdout",
     "output_type": "stream",
     "text": [
      "Found 17271 images belonging to 142 classes.\n",
      "Found 7382 images belonging to 142 classes.\n"
     ]
    }
   ],
   "source": [
    "training_set = train_data_gen.flow_from_directory(path,\n",
    "                                                 target_size=(229,229),\n",
    "                                                 batch_size=100,\n",
    "                                                 class_mode='categorical',\n",
    "                                                 shuffle=True,\n",
    "                                                 color_mode='rgb',\n",
    "                                                 subset = 'training')\n",
    "\n",
    "testing_set = test_data_gen.flow_from_directory(path,\n",
    "                                                 target_size=(229,229),\n",
    "                                                 batch_size=100,\n",
    "                                                 class_mode='categorical',\n",
    "                                                 shuffle=True,\n",
    "                                                 color_mode='rgb',\n",
    "                                                 subset = 'validation')"
   ]
  },
  {
   "cell_type": "code",
   "execution_count": 9,
   "id": "46796fac",
   "metadata": {
    "execution": {
     "iopub.execute_input": "2022-11-02T09:59:56.944527Z",
     "iopub.status.busy": "2022-11-02T09:59:56.944170Z",
     "iopub.status.idle": "2022-11-02T09:59:56.957176Z",
     "shell.execute_reply": "2022-11-02T09:59:56.956276Z",
     "shell.execute_reply.started": "2022-11-02T09:59:56.944492Z"
    }
   },
   "outputs": [
    {
     "data": {
      "text/plain": [
       "{'Apple Leaf': 0,\n",
       " 'Arrowhead Leaf': 1,\n",
       " 'Bamboo Leaf': 2,\n",
       " 'Banana Leaf': 3,\n",
       " 'Bluebell': 4,\n",
       " 'Buttercup': 5,\n",
       " 'Coltsfoot': 6,\n",
       " 'Corals': 7,\n",
       " 'Corpse Flower': 8,\n",
       " 'Cowslip': 9,\n",
       " 'Crabs': 10,\n",
       " 'Crocus': 11,\n",
       " 'Currant Leaf': 12,\n",
       " 'Curry Leaf': 13,\n",
       " 'Daffodil': 14,\n",
       " 'Dolphin': 15,\n",
       " 'Duckpotato Leaf': 16,\n",
       " 'Eel': 17,\n",
       " 'Fig Leaf': 18,\n",
       " 'Fritillary': 19,\n",
       " 'Gooseberry Leaf': 20,\n",
       " 'Great Indian Bustard Bird': 21,\n",
       " 'Guava Leaf': 22,\n",
       " 'Iris': 23,\n",
       " 'Irrelevant': 24,\n",
       " 'Jelly Fish': 25,\n",
       " 'Lady Slipper Orchid Flower': 26,\n",
       " 'Lemon Leaf': 27,\n",
       " 'Lily Valley': 28,\n",
       " 'Lobster': 29,\n",
       " 'Mango Leaf': 30,\n",
       " 'Mulberry Leaf': 31,\n",
       " 'Nudibranchs': 32,\n",
       " 'Octopus': 33,\n",
       " 'Pangolin Mammal': 34,\n",
       " 'Pansy': 35,\n",
       " 'Papaya Leaf': 36,\n",
       " 'Pine Leaf': 37,\n",
       " 'Puffers': 38,\n",
       " 'Raddish Leaf': 39,\n",
       " 'Raspberry Leaf': 40,\n",
       " 'Rose Leaf': 41,\n",
       " 'Sea Rays': 42,\n",
       " 'Sea Urchins': 43,\n",
       " 'Seahorse': 44,\n",
       " 'Seal': 45,\n",
       " 'Senenca White Deer Mammal': 46,\n",
       " 'Sharks': 47,\n",
       " 'Snowdrop': 48,\n",
       " 'Spoon Billed Sandpiper Bird': 49,\n",
       " 'Squid': 50,\n",
       " 'Starfish': 51,\n",
       " 'Tangerine Leaf': 52,\n",
       " 'Tigerlily': 53,\n",
       " 'Tomato Leaf': 54,\n",
       " 'Turtle_Tortoise': 55,\n",
       " 'WaterOak Leaf': 56,\n",
       " 'Whale': 57,\n",
       " 'Windflower': 58,\n",
       " 'antelope': 59,\n",
       " 'badger': 60,\n",
       " 'bat': 61,\n",
       " 'bear': 62,\n",
       " 'bee': 63,\n",
       " 'beetle': 64,\n",
       " 'bison': 65,\n",
       " 'boar': 66,\n",
       " 'butterfly': 67,\n",
       " 'cat': 68,\n",
       " 'caterpillar': 69,\n",
       " 'chimpanzee': 70,\n",
       " 'cockroach': 71,\n",
       " 'cow': 72,\n",
       " 'coyote': 73,\n",
       " 'crow': 74,\n",
       " 'daisy': 75,\n",
       " 'dandelion': 76,\n",
       " 'deer': 77,\n",
       " 'dog': 78,\n",
       " 'donkey': 79,\n",
       " 'dragonfly': 80,\n",
       " 'duck': 81,\n",
       " 'eagle': 82,\n",
       " 'elephant': 83,\n",
       " 'flamingo': 84,\n",
       " 'fly': 85,\n",
       " 'fox': 86,\n",
       " 'goat': 87,\n",
       " 'goldfish': 88,\n",
       " 'goose': 89,\n",
       " 'gorilla': 90,\n",
       " 'grasshopper': 91,\n",
       " 'hamster': 92,\n",
       " 'hare': 93,\n",
       " 'hedgehog': 94,\n",
       " 'hippopotamus': 95,\n",
       " 'hornbill': 96,\n",
       " 'horse': 97,\n",
       " 'hummingbird': 98,\n",
       " 'hyena': 99,\n",
       " 'kangaroo': 100,\n",
       " 'koala': 101,\n",
       " 'ladybugs': 102,\n",
       " 'leopard': 103,\n",
       " 'lion': 104,\n",
       " 'lizard': 105,\n",
       " 'mosquito': 106,\n",
       " 'moth': 107,\n",
       " 'mouse': 108,\n",
       " 'okapi': 109,\n",
       " 'orangutan': 110,\n",
       " 'otter': 111,\n",
       " 'owl': 112,\n",
       " 'ox': 113,\n",
       " 'oyster': 114,\n",
       " 'panda': 115,\n",
       " 'parrot': 116,\n",
       " 'pelecaniformes': 117,\n",
       " 'penguin': 118,\n",
       " 'pig': 119,\n",
       " 'pigeon': 120,\n",
       " 'porcupine': 121,\n",
       " 'possum': 122,\n",
       " 'raccoon': 123,\n",
       " 'rat': 124,\n",
       " 'reindeer': 125,\n",
       " 'rhinoceros': 126,\n",
       " 'rose': 127,\n",
       " 'sandpiper': 128,\n",
       " 'sheep': 129,\n",
       " 'snake': 130,\n",
       " 'sparrow': 131,\n",
       " 'squirrel': 132,\n",
       " 'sunflower': 133,\n",
       " 'swan': 134,\n",
       " 'tiger': 135,\n",
       " 'tulip': 136,\n",
       " 'turkey': 137,\n",
       " 'wolf': 138,\n",
       " 'wombat': 139,\n",
       " 'woodpecker': 140,\n",
       " 'zebra': 141}"
      ]
     },
     "execution_count": 9,
     "metadata": {},
     "output_type": "execute_result"
    }
   ],
   "source": [
    "training_set.class_indices"
   ]
  },
  {
   "cell_type": "code",
   "execution_count": 10,
   "id": "d4fd6a71",
   "metadata": {
    "execution": {
     "iopub.execute_input": "2022-11-02T09:59:56.959355Z",
     "iopub.status.busy": "2022-11-02T09:59:56.958896Z",
     "iopub.status.idle": "2022-11-02T09:59:56.971150Z",
     "shell.execute_reply": "2022-11-02T09:59:56.970177Z",
     "shell.execute_reply.started": "2022-11-02T09:59:56.959320Z"
    }
   },
   "outputs": [
    {
     "data": {
      "text/plain": [
       "142"
      ]
     },
     "execution_count": 10,
     "metadata": {},
     "output_type": "execute_result"
    }
   ],
   "source": [
    "from glob import glob\n",
    "folders = glob('../input/dn-ai/Digital Naturalist datasss/*')\n",
    "len(folders)"
   ]
  },
  {
   "cell_type": "markdown",
   "id": "80e7399a",
   "metadata": {},
   "source": [
    "# Model Building"
   ]
  },
  {
   "cell_type": "code",
   "execution_count": 11,
   "id": "0f0f80dc",
   "metadata": {
    "execution": {
     "iopub.execute_input": "2022-11-02T09:59:56.974777Z",
     "iopub.status.busy": "2022-11-02T09:59:56.974515Z",
     "iopub.status.idle": "2022-11-02T10:00:06.173664Z",
     "shell.execute_reply": "2022-11-02T10:00:06.172676Z",
     "shell.execute_reply.started": "2022-11-02T09:59:56.974753Z"
    }
   },
   "outputs": [
    {
     "name": "stderr",
     "output_type": "stream",
     "text": [
      "2022-11-02 09:59:57.072012: I tensorflow/stream_executor/cuda/cuda_gpu_executor.cc:937] successful NUMA node read from SysFS had negative value (-1), but there must be at least one NUMA node, so returning NUMA node zero\n",
      "2022-11-02 09:59:57.158903: I tensorflow/stream_executor/cuda/cuda_gpu_executor.cc:937] successful NUMA node read from SysFS had negative value (-1), but there must be at least one NUMA node, so returning NUMA node zero\n",
      "2022-11-02 09:59:57.159714: I tensorflow/stream_executor/cuda/cuda_gpu_executor.cc:937] successful NUMA node read from SysFS had negative value (-1), but there must be at least one NUMA node, so returning NUMA node zero\n",
      "2022-11-02 09:59:57.161445: I tensorflow/core/platform/cpu_feature_guard.cc:142] This TensorFlow binary is optimized with oneAPI Deep Neural Network Library (oneDNN) to use the following CPU instructions in performance-critical operations:  AVX2 AVX512F FMA\n",
      "To enable them in other operations, rebuild TensorFlow with the appropriate compiler flags.\n",
      "2022-11-02 09:59:57.161721: I tensorflow/stream_executor/cuda/cuda_gpu_executor.cc:937] successful NUMA node read from SysFS had negative value (-1), but there must be at least one NUMA node, so returning NUMA node zero\n",
      "2022-11-02 09:59:57.162424: I tensorflow/stream_executor/cuda/cuda_gpu_executor.cc:937] successful NUMA node read from SysFS had negative value (-1), but there must be at least one NUMA node, so returning NUMA node zero\n",
      "2022-11-02 09:59:57.163050: I tensorflow/stream_executor/cuda/cuda_gpu_executor.cc:937] successful NUMA node read from SysFS had negative value (-1), but there must be at least one NUMA node, so returning NUMA node zero\n",
      "2022-11-02 09:59:59.107808: I tensorflow/stream_executor/cuda/cuda_gpu_executor.cc:937] successful NUMA node read from SysFS had negative value (-1), but there must be at least one NUMA node, so returning NUMA node zero\n",
      "2022-11-02 09:59:59.108723: I tensorflow/stream_executor/cuda/cuda_gpu_executor.cc:937] successful NUMA node read from SysFS had negative value (-1), but there must be at least one NUMA node, so returning NUMA node zero\n",
      "2022-11-02 09:59:59.109413: I tensorflow/stream_executor/cuda/cuda_gpu_executor.cc:937] successful NUMA node read from SysFS had negative value (-1), but there must be at least one NUMA node, so returning NUMA node zero\n",
      "2022-11-02 09:59:59.109996: I tensorflow/core/common_runtime/gpu/gpu_device.cc:1510] Created device /job:localhost/replica:0/task:0/device:GPU:0 with 15401 MB memory:  -> device: 0, name: Tesla P100-PCIE-16GB, pci bus id: 0000:00:04.0, compute capability: 6.0\n"
     ]
    },
    {
     "name": "stdout",
     "output_type": "stream",
     "text": [
      "Downloading data from https://storage.googleapis.com/tensorflow/keras-applications/inception_v3/inception_v3_weights_tf_dim_ordering_tf_kernels_notop.h5\n",
      "87916544/87910968 [==============================] - 4s 0us/step\n",
      "87924736/87910968 [==============================] - 4s 0us/step\n"
     ]
    }
   ],
   "source": [
    "inception = InceptionV3(input_shape=IMAGE_SIZE+[3],weights='imagenet',include_top=False)"
   ]
  },
  {
   "cell_type": "code",
   "execution_count": 12,
   "id": "1230b19e",
   "metadata": {
    "execution": {
     "iopub.execute_input": "2022-11-02T10:00:06.175462Z",
     "iopub.status.busy": "2022-11-02T10:00:06.175087Z",
     "iopub.status.idle": "2022-11-02T10:00:06.193972Z",
     "shell.execute_reply": "2022-11-02T10:00:06.192869Z",
     "shell.execute_reply.started": "2022-11-02T10:00:06.175424Z"
    }
   },
   "outputs": [],
   "source": [
    "for layer in inception.layers:\n",
    "    layer.trainable = False\n",
    "    \n",
    "for layer in inception.layers[250:]:\n",
    "    layer.trainable = True"
   ]
  },
  {
   "cell_type": "code",
   "execution_count": 13,
   "id": "9038fbf8",
   "metadata": {
    "execution": {
     "iopub.execute_input": "2022-11-02T10:00:06.195776Z",
     "iopub.status.busy": "2022-11-02T10:00:06.195412Z",
     "iopub.status.idle": "2022-11-02T10:00:06.754734Z",
     "shell.execute_reply": "2022-11-02T10:00:06.753680Z",
     "shell.execute_reply.started": "2022-11-02T10:00:06.195741Z"
    }
   },
   "outputs": [
    {
     "name": "stdout",
     "output_type": "stream",
     "text": [
      "Model: \"sequential\"\n",
      "_________________________________________________________________\n",
      "Layer (type)                 Output Shape              Param #   \n",
      "=================================================================\n",
      "inception_v3 (Functional)    (None, 5, 5, 2048)        21802784  \n",
      "_________________________________________________________________\n",
      "flatten (Flatten)            (None, 51200)             0         \n",
      "_________________________________________________________________\n",
      "dense (Dense)                (None, 142)               7270542   \n",
      "=================================================================\n",
      "Total params: 29,073,326\n",
      "Trainable params: 17,811,982\n",
      "Non-trainable params: 11,261,344\n",
      "_________________________________________________________________\n"
     ]
    }
   ],
   "source": [
    "model = Sequential()\n",
    "model.add(inception)\n",
    "model.add(Flatten())\n",
    "model.add(Dense(units = 142, activation = 'softmax'))\n",
    "model.summary()"
   ]
  },
  {
   "cell_type": "code",
   "execution_count": 14,
   "id": "be9db955",
   "metadata": {
    "execution": {
     "iopub.execute_input": "2022-11-02T10:00:06.759622Z",
     "iopub.status.busy": "2022-11-02T10:00:06.758647Z",
     "iopub.status.idle": "2022-11-02T10:00:06.764189Z",
     "shell.execute_reply": "2022-11-02T10:00:06.763182Z",
     "shell.execute_reply.started": "2022-11-02T10:00:06.759583Z"
    }
   },
   "outputs": [],
   "source": [
    "x = Flatten()(resnet.output)\n",
    "prediction = Dense(len(folders),activation='softmax')(x)\n",
    "model = Model(inputs=resnet.input, outputs=prediction)"
   ]
  },
  {
   "cell_type": "code",
   "execution_count": 15,
   "id": "478c93f5",
   "metadata": {
    "execution": {
     "iopub.execute_input": "2022-11-02T10:00:06.766168Z",
     "iopub.status.busy": "2022-11-02T10:00:06.765809Z",
     "iopub.status.idle": "2022-11-02T10:00:06.773163Z",
     "shell.execute_reply": "2022-11-02T10:00:06.772096Z",
     "shell.execute_reply.started": "2022-11-02T10:00:06.766133Z"
    }
   },
   "outputs": [],
   "source": [
    "model.summary()"
   ]
  },
  {
   "cell_type": "code",
   "execution_count": 16,
   "id": "d4a64c8c",
   "metadata": {
    "execution": {
     "iopub.execute_input": "2022-11-02T10:00:06.776764Z",
     "iopub.status.busy": "2022-11-02T10:00:06.776481Z",
     "iopub.status.idle": "2022-11-02T10:00:06.793283Z",
     "shell.execute_reply": "2022-11-02T10:00:06.792254Z",
     "shell.execute_reply.started": "2022-11-02T10:00:06.776740Z"
    }
   },
   "outputs": [],
   "source": [
    "model.compile(loss='categorical_crossentropy',optimizer='adam',metrics=['accuracy'])"
   ]
  },
  {
   "cell_type": "code",
   "execution_count": 17,
   "id": "a757f227",
   "metadata": {
    "execution": {
     "iopub.execute_input": "2022-11-02T10:00:06.795159Z",
     "iopub.status.busy": "2022-11-02T10:00:06.794464Z",
     "iopub.status.idle": "2022-11-02T10:00:06.800766Z",
     "shell.execute_reply": "2022-11-02T10:00:06.799782Z",
     "shell.execute_reply.started": "2022-11-02T10:00:06.795120Z"
    }
   },
   "outputs": [],
   "source": [
    "early_stop = EarlyStopping(monitor='val_accuracy', \n",
    "                           patience=5,verbose=1,mode='auto')\n",
    "\n",
    "lr = ReduceLROnPlateau(monitor='val_accuracy', \n",
    "                       factor=0.2,patience=5, \n",
    "                       min_lr=0.00001)\n",
    "\n",
    "callback = [early_stop,lr]"
   ]
  },
  {
   "cell_type": "code",
   "execution_count": 18,
   "id": "4c431608",
   "metadata": {
    "execution": {
     "iopub.execute_input": "2022-11-02T10:00:06.802840Z",
     "iopub.status.busy": "2022-11-02T10:00:06.802250Z",
     "iopub.status.idle": "2022-11-02T12:04:21.811634Z",
     "shell.execute_reply": "2022-11-02T12:04:21.810169Z",
     "shell.execute_reply.started": "2022-11-02T10:00:06.802805Z"
    }
   },
   "outputs": [
    {
     "name": "stderr",
     "output_type": "stream",
     "text": [
      "2022-11-02 10:00:08.582671: I tensorflow/compiler/mlir/mlir_graph_optimization_pass.cc:185] None of the MLIR Optimization Passes are enabled (registered 2)\n"
     ]
    },
    {
     "name": "stdout",
     "output_type": "stream",
     "text": [
      "Epoch 1/50\n"
     ]
    },
    {
     "name": "stderr",
     "output_type": "stream",
     "text": [
      "2022-11-02 10:00:15.896924: I tensorflow/stream_executor/cuda/cuda_dnn.cc:369] Loaded cuDNN version 8005\n"
     ]
    },
    {
     "name": "stdout",
     "output_type": "stream",
     "text": [
      "173/173 [==============================] - 385s 2s/step - loss: 1.9036 - accuracy: 0.6191 - val_loss: 0.9961 - val_accuracy: 0.7368\n",
      "Epoch 2/50\n",
      "173/173 [==============================] - 324s 2s/step - loss: 0.6248 - accuracy: 0.8231 - val_loss: 0.9225 - val_accuracy: 0.7692\n",
      "Epoch 3/50\n",
      "173/173 [==============================] - 322s 2s/step - loss: 0.4367 - accuracy: 0.8737 - val_loss: 0.8945 - val_accuracy: 0.7807\n",
      "Epoch 4/50\n",
      "173/173 [==============================] - 321s 2s/step - loss: 0.3099 - accuracy: 0.9068 - val_loss: 1.0024 - val_accuracy: 0.7846\n",
      "Epoch 5/50\n",
      "173/173 [==============================] - 319s 2s/step - loss: 0.2374 - accuracy: 0.9281 - val_loss: 1.1139 - val_accuracy: 0.7772\n",
      "Epoch 6/50\n",
      "173/173 [==============================] - 319s 2s/step - loss: 0.2027 - accuracy: 0.9396 - val_loss: 0.9030 - val_accuracy: 0.8067\n",
      "Epoch 7/50\n",
      "173/173 [==============================] - 322s 2s/step - loss: 0.1594 - accuracy: 0.9504 - val_loss: 0.9760 - val_accuracy: 0.8047\n",
      "Epoch 8/50\n",
      "173/173 [==============================] - 325s 2s/step - loss: 0.1337 - accuracy: 0.9593 - val_loss: 1.1115 - val_accuracy: 0.7961\n",
      "Epoch 9/50\n",
      "173/173 [==============================] - 320s 2s/step - loss: 0.1426 - accuracy: 0.9566 - val_loss: 0.9772 - val_accuracy: 0.8112\n",
      "Epoch 10/50\n",
      "173/173 [==============================] - 319s 2s/step - loss: 0.0973 - accuracy: 0.9699 - val_loss: 1.0423 - val_accuracy: 0.7996\n",
      "Epoch 11/50\n",
      "173/173 [==============================] - 322s 2s/step - loss: 0.0891 - accuracy: 0.9713 - val_loss: 1.1676 - val_accuracy: 0.7979\n",
      "Epoch 12/50\n",
      "173/173 [==============================] - 321s 2s/step - loss: 0.1282 - accuracy: 0.9631 - val_loss: 1.4387 - val_accuracy: 0.7846\n",
      "Epoch 13/50\n",
      "173/173 [==============================] - 320s 2s/step - loss: 0.1082 - accuracy: 0.9687 - val_loss: 1.0383 - val_accuracy: 0.8101\n",
      "Epoch 14/50\n",
      "173/173 [==============================] - 321s 2s/step - loss: 0.0844 - accuracy: 0.9746 - val_loss: 1.0239 - val_accuracy: 0.8129\n",
      "Epoch 15/50\n",
      "173/173 [==============================] - 322s 2s/step - loss: 0.0780 - accuracy: 0.9774 - val_loss: 1.0495 - val_accuracy: 0.8171\n",
      "Epoch 16/50\n",
      "173/173 [==============================] - 322s 2s/step - loss: 0.0704 - accuracy: 0.9792 - val_loss: 1.0805 - val_accuracy: 0.8105\n",
      "Epoch 17/50\n",
      "173/173 [==============================] - 321s 2s/step - loss: 0.0631 - accuracy: 0.9797 - val_loss: 1.1800 - val_accuracy: 0.8185\n",
      "Epoch 18/50\n",
      "173/173 [==============================] - 321s 2s/step - loss: 0.0676 - accuracy: 0.9799 - val_loss: 1.0883 - val_accuracy: 0.8198\n",
      "Epoch 19/50\n",
      "173/173 [==============================] - 324s 2s/step - loss: 0.0650 - accuracy: 0.9798 - val_loss: 1.1442 - val_accuracy: 0.8085\n",
      "Epoch 20/50\n",
      "173/173 [==============================] - 322s 2s/step - loss: 0.0618 - accuracy: 0.9821 - val_loss: 1.1267 - val_accuracy: 0.8120\n",
      "Epoch 21/50\n",
      "173/173 [==============================] - 322s 2s/step - loss: 0.0610 - accuracy: 0.9829 - val_loss: 1.2908 - val_accuracy: 0.7995\n",
      "Epoch 22/50\n",
      "173/173 [==============================] - 321s 2s/step - loss: 0.0660 - accuracy: 0.9808 - val_loss: 1.1488 - val_accuracy: 0.8089\n",
      "Epoch 23/50\n",
      "173/173 [==============================] - 320s 2s/step - loss: 0.0728 - accuracy: 0.9815 - val_loss: 1.2795 - val_accuracy: 0.7998\n",
      "Epoch 00023: early stopping\n"
     ]
    }
   ],
   "source": [
    "result = model.fit(training_set, validation_data=testing_set, epochs=50,\n",
    "    steps_per_epoch=len(training_set),validation_steps=len(testing_set),callbacks=callback)"
   ]
  },
  {
   "cell_type": "markdown",
   "id": "61522f3e",
   "metadata": {},
   "source": [
    "# Model Evaluation"
   ]
  },
  {
   "cell_type": "code",
   "execution_count": 19,
   "id": "4314b322",
   "metadata": {
    "execution": {
     "iopub.execute_input": "2022-11-02T12:04:21.813820Z",
     "iopub.status.busy": "2022-11-02T12:04:21.813445Z",
     "iopub.status.idle": "2022-11-02T12:04:24.537705Z",
     "shell.execute_reply": "2022-11-02T12:04:24.536974Z",
     "shell.execute_reply.started": "2022-11-02T12:04:21.813785Z"
    }
   },
   "outputs": [
    {
     "data": {
      "image/png": "[encoded data removed]",
      "text/plain": [
       "<Figure size 432x288 with 1 Axes>"
      ]
     },
     "metadata": {
      "needs_background": "light"
     },
     "output_type": "display_data"
    },
    {
     "data": {
      "image/png": "[encoded data removed]",
      "text/plain": [
       "<Figure size 432x288 with 1 Axes>"
      ]
     },
     "metadata": {
      "needs_background": "light"
     },
     "output_type": "display_data"
    }
   ],
   "source": [
    "#plot the loss\n",
    "plt.plot(result.history['loss'], label='train loss')\n",
    "plt.plot(result.history['val_loss'], label='val loss')\n",
    "plt.legend()\n",
    "plt.show()\n",
    "\n",
    "# plot the accuracy\n",
    "plt.plot(result.history['accuracy'], label='train acc')\n",
    "plt.plot(result.history['val_accuracy'], label='val acc')\n",
    "plt.legend()\n",
    "plt.show()"
   ]
  },
  {
   "cell_type": "code",
   "execution_count": 20,
   "id": "0157b05f",
   "metadata": {
    "execution": {
     "iopub.execute_input": "2022-11-02T12:04:24.540124Z",
     "iopub.status.busy": "2022-11-02T12:04:24.538951Z",
     "iopub.status.idle": "2022-11-02T12:04:25.356017Z",
     "shell.execute_reply": "2022-11-02T12:04:25.355050Z",
     "shell.execute_reply.started": "2022-11-02T12:04:24.540084Z"
    }
   },
   "outputs": [],
   "source": [
    "model.save('dnai.h5')"
   ]
  },
  {
   "cell_type": "code",
   "execution_count": 32,
   "id": "369b1728",
   "metadata": {
    "execution": {
     "iopub.execute_input": "2022-11-02T12:40:39.352723Z",
     "iopub.status.busy": "2022-11-02T12:40:39.352100Z",
     "iopub.status.idle": "2022-11-02T12:40:39.358596Z",
     "shell.execute_reply": "2022-11-02T12:40:39.357426Z",
     "shell.execute_reply.started": "2022-11-02T12:40:39.352687Z"
    }
   },
   "outputs": [
    {
     "name": "stdout",
     "output_type": "stream",
     "text": [
      "The accuracy of the model:98.15 %\n",
      "The accuracy of the testing:79.98 %\n"
     ]
    }
   ],
   "source": [
    "print(\"The accuracy of the model:{:.2f} %\".format(result.history['accuracy'][-1]*100))\n",
    "print(\"The accuracy of the testing:{:.2f} %\".format(result.history['val_accuracy'][-1]*100))"
   ]
  },
  {
   "cell_type": "markdown",
   "id": "ff31bea9",
   "metadata": {},
   "source": [
    "# Conclusion:\n",
    "1. The sprint-1 deliverables where executed successfully.\n",
    "2. The transfer learning CNN model was built using a huge 142 classes dataset.\n",
    "3. The model achived an accuaracy of 98% in training and 80% in testing."
   ]
  }
 ],
 "metadata": {
  "kernelspec": {
   "display_name": "Python 3",
   "language": "python",
   "name": "python3"
  },
  "language_info": {
   "codemirror_mode": {
    "name": "ipython",
    "version": 3
   },
   "file_extension": ".py",
   "mimetype": "text/x-python",
   "name": "python",
   "nbconvert_exporter": "python",
   "pygments_lexer": "ipython3",
   "version": "3.8.8"
  }
 },
 "nbformat": 4,
 "nbformat_minor": 5
}
