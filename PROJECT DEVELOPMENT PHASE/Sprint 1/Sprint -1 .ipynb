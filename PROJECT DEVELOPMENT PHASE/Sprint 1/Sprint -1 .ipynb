{
 "cells": [
  {
   "cell_type": "code",
   "execution_count": 1,
   "id": "5a545b24",
   "metadata": {},
   "outputs": [],
   "source": [
    "import warnings\n",
    "warnings.filterwarnings(\"ignore\")"
   ]
  },
  {
   "cell_type": "code",
   "execution_count": 2,
   "id": "f670fcee",
   "metadata": {},
   "outputs": [],
   "source": [
    "from tensorflow.compat.v1 import ConfigProto\n",
    "from tensorflow.compat.v1 import InteractiveSession\n",
    "\n",
    "config = ConfigProto()\n",
    "config.gpu_options.per_process_gpu_memory_fraction = 0.5\n",
    "config.gpu_options.allow_growth = True\n",
    "session = InteractiveSession(config=config)"
   ]
  },
  {
   "cell_type": "code",
   "execution_count": 3,
   "id": "85dc967f",
   "metadata": {},
   "outputs": [],
   "source": [
    "import numpy as np\n",
    "import matplotlib.pyplot as plt\n",
    "import pandas as pd\n",
    "from tensorflow.keras.models import Sequential,Model\n",
    "from tensorflow.keras.layers import Dense,Activation,Dropout,Conv2D,Flatten,MaxPool2D,Reshape,InputLayer\n",
    "from tensorflow.keras.applications.resnet50 import ResNet50\n",
    "from keras.applications.vgg19 import VGG19\n",
    "from tensorflow.keras.applications.resnet50 import preprocess_input\n",
    "from tensorflow.keras.preprocessing import image\n",
    "from tensorflow.keras.preprocessing.image import ImageDataGenerator,load_img,img_to_array\n",
    "from tensorflow.keras.callbacks import EarlyStopping, ReduceLROnPlateau"
   ]
  },
  {
   "cell_type": "code",
   "execution_count": 4,
   "id": "9141ca3a",
   "metadata": {},
   "outputs": [],
   "source": [
    "IMAGE_SIZE = [224,224]\n",
    "path = 'Digital Naturalist Dataset'"
   ]
  },
  {
   "cell_type": "code",
   "execution_count": 5,
   "id": "2018e8cb",
   "metadata": {},
   "outputs": [],
   "source": [
    "train_data_gen = ImageDataGenerator(rescale = 1./255,\n",
    "                             shear_range = 0.2,\n",
    "                             zoom_range = 0.2,\n",
    "                             horizontal_flip = True,\n",
    "                             validation_split = 0.30)\n",
    "test_data_gen = ImageDataGenerator(rescale = 1./255,validation_split = 0.30)"
   ]
  },
  {
   "cell_type": "code",
   "execution_count": 6,
   "id": "ef674ab5",
   "metadata": {},
   "outputs": [
    {
     "name": "stdout",
     "output_type": "stream",
     "text": [
      "Found 17270 images belonging to 142 classes.\n",
      "Found 7382 images belonging to 142 classes.\n"
     ]
    }
   ],
   "source": [
    "training_set = train_data_gen.flow_from_directory(path,\n",
    "                                                 target_size=(224,224),\n",
    "                                                 batch_size=100,\n",
    "                                                 class_mode='categorical',\n",
    "                                                 shuffle=True,\n",
    "                                                 color_mode='rgb',\n",
    "                                                 subset = 'training')\n",
    "\n",
    "testing_set = test_data_gen.flow_from_directory(path,\n",
    "                                                 target_size=(224,224),\n",
    "                                                 batch_size=100,\n",
    "                                                 class_mode='categorical',\n",
    "                                                 shuffle=True,\n",
    "                                                 color_mode='rgb',\n",
    "                                                 subset = 'validation')"
   ]
  },
  {
   "cell_type": "code",
   "execution_count": 7,
   "id": "22b7fae3",
   "metadata": {},
   "outputs": [
    {
     "data": {
      "text/plain": [
       "{'Apple Leaf': 0,\n",
       " 'Arrowhead Leaf': 1,\n",
       " 'Bamboo Leaf': 2,\n",
       " 'Banana Leaf': 3,\n",
       " 'Bluebell': 4,\n",
       " 'Buttercup': 5,\n",
       " \"Colts'foot\": 6,\n",
       " 'Corals': 7,\n",
       " 'Corpse Flower': 8,\n",
       " 'Cowslip': 9,\n",
       " 'Crabs': 10,\n",
       " 'Crocus': 11,\n",
       " 'Currant Leaf': 12,\n",
       " 'Curry Leaf': 13,\n",
       " 'Daffodil': 14,\n",
       " 'Dolphin': 15,\n",
       " 'Duckpotato Leaf': 16,\n",
       " 'Eel': 17,\n",
       " 'Fig Leaf': 18,\n",
       " 'Fritillary': 19,\n",
       " 'Gooseberry Leaf': 20,\n",
       " 'Great Indian Bustard Bird': 21,\n",
       " 'Guava Leaf': 22,\n",
       " 'Iris': 23,\n",
       " 'Irrelevant': 24,\n",
       " 'Jelly Fish': 25,\n",
       " 'Lady Slipper Orchid Flower': 26,\n",
       " 'Lemon Leaf': 27,\n",
       " 'Lily Valley': 28,\n",
       " 'Lobster': 29,\n",
       " 'Mango Leaf': 30,\n",
       " 'Mulberry Leaf': 31,\n",
       " 'Nudibranchs': 32,\n",
       " 'Octopus': 33,\n",
       " 'Pangolin Mammal': 34,\n",
       " 'Pansy': 35,\n",
       " 'Papaya Leaf': 36,\n",
       " 'Pine Leaf': 37,\n",
       " 'Puffers': 38,\n",
       " 'Raddish Leaf': 39,\n",
       " 'Raspberry Leaf': 40,\n",
       " 'Rose Leaf': 41,\n",
       " 'Sea Rays': 42,\n",
       " 'Sea Urchins': 43,\n",
       " 'Seahorse': 44,\n",
       " 'Seal': 45,\n",
       " 'Senenca White Deer Mammal': 46,\n",
       " 'Sharks': 47,\n",
       " 'Snowdrop': 48,\n",
       " 'Spoon Billed Sandpiper Bird': 49,\n",
       " 'Squid': 50,\n",
       " 'Starfish': 51,\n",
       " 'Tangerine Leaf': 52,\n",
       " 'Tigerlily': 53,\n",
       " 'Tomato Leaf': 54,\n",
       " 'Turtle_Tortoise': 55,\n",
       " 'WaterOak Leaf': 56,\n",
       " 'Whale': 57,\n",
       " 'Windflower': 58,\n",
       " 'antelope': 59,\n",
       " 'badger': 60,\n",
       " 'bat': 61,\n",
       " 'bear': 62,\n",
       " 'bee': 63,\n",
       " 'beetle': 64,\n",
       " 'bison': 65,\n",
       " 'boar': 66,\n",
       " 'butterfly': 67,\n",
       " 'cat': 68,\n",
       " 'caterpillar': 69,\n",
       " 'chimpanzee': 70,\n",
       " 'cockroach': 71,\n",
       " 'cow': 72,\n",
       " 'coyote': 73,\n",
       " 'crow': 74,\n",
       " 'daisy': 75,\n",
       " 'dandelion': 76,\n",
       " 'deer': 77,\n",
       " 'dog': 78,\n",
       " 'donkey': 79,\n",
       " 'dragonfly': 80,\n",
       " 'duck': 81,\n",
       " 'eagle': 82,\n",
       " 'elephant': 83,\n",
       " 'flamingo': 84,\n",
       " 'fly': 85,\n",
       " 'fox': 86,\n",
       " 'goat': 87,\n",
       " 'goldfish': 88,\n",
       " 'goose': 89,\n",
       " 'gorilla': 90,\n",
       " 'grasshopper': 91,\n",
       " 'hamster': 92,\n",
       " 'hare': 93,\n",
       " 'hedgehog': 94,\n",
       " 'hippopotamus': 95,\n",
       " 'hornbill': 96,\n",
       " 'horse': 97,\n",
       " 'hummingbird': 98,\n",
       " 'hyena': 99,\n",
       " 'kangaroo': 100,\n",
       " 'koala': 101,\n",
       " 'ladybugs': 102,\n",
       " 'leopard': 103,\n",
       " 'lion': 104,\n",
       " 'lizard': 105,\n",
       " 'mosquito': 106,\n",
       " 'moth': 107,\n",
       " 'mouse': 108,\n",
       " 'okapi': 109,\n",
       " 'orangutan': 110,\n",
       " 'otter': 111,\n",
       " 'owl': 112,\n",
       " 'ox': 113,\n",
       " 'oyster': 114,\n",
       " 'panda': 115,\n",
       " 'parrot': 116,\n",
       " 'pelecaniformes': 117,\n",
       " 'penguin': 118,\n",
       " 'pig': 119,\n",
       " 'pigeon': 120,\n",
       " 'porcupine': 121,\n",
       " 'possum': 122,\n",
       " 'raccoon': 123,\n",
       " 'rat': 124,\n",
       " 'reindeer': 125,\n",
       " 'rhinoceros': 126,\n",
       " 'rose': 127,\n",
       " 'sandpiper': 128,\n",
       " 'sheep': 129,\n",
       " 'snake': 130,\n",
       " 'sparrow': 131,\n",
       " 'squirrel': 132,\n",
       " 'sunflower': 133,\n",
       " 'swan': 134,\n",
       " 'tiger': 135,\n",
       " 'tulip': 136,\n",
       " 'turkey': 137,\n",
       " 'wolf': 138,\n",
       " 'wombat': 139,\n",
       " 'woodpecker': 140,\n",
       " 'zebra': 141}"
      ]
     },
     "execution_count": 7,
     "metadata": {},
     "output_type": "execute_result"
    }
   ],
   "source": [
    "training_set.class_indices"
   ]
  },
  {
   "cell_type": "code",
   "execution_count": 8,
   "id": "586582b9",
   "metadata": {},
   "outputs": [
    {
     "name": "stdout",
     "output_type": "stream",
     "text": [
      "Downloading data from https://storage.googleapis.com/tensorflow/keras-applications/vgg19/vgg19_weights_tf_dim_ordering_tf_kernels_notop.h5\n",
      "80134624/80134624 [==============================] - 19s 0us/step\n"
     ]
    }
   ],
   "source": [
    "vgg19 = VGG19(input_shape=IMAGE_SIZE+[3], weights='imagenet', include_top=False)"
   ]
  },
  {
   "cell_type": "code",
   "execution_count": 9,
   "id": "26adc964",
   "metadata": {},
   "outputs": [],
   "source": [
    "for layer in vgg19.layers:\n",
    "    layer.trainable = False"
   ]
  },
  {
   "cell_type": "code",
   "execution_count": 10,
   "id": "dbf45727",
   "metadata": {},
   "outputs": [],
   "source": [
    "from glob import glob\n",
    "folders = glob('Digital Naturalist Dataset/*')"
   ]
  },
  {
   "cell_type": "code",
   "execution_count": 11,
   "id": "7a44fb34",
   "metadata": {},
   "outputs": [
    {
     "data": {
      "text/plain": [
       "142"
      ]
     },
     "execution_count": 11,
     "metadata": {},
     "output_type": "execute_result"
    }
   ],
   "source": [
    "len(folders)"
   ]
  },
  {
   "cell_type": "code",
   "execution_count": 12,
   "id": "de31a0f5",
   "metadata": {},
   "outputs": [],
   "source": [
    "x = Flatten()(vgg19.output)\n",
    "prediction = Dense(len(folders),activation='softmax')(x)\n",
    "model = Model(inputs=vgg19.input, outputs=prediction)"
   ]
  },
  {
   "cell_type": "code",
   "execution_count": 13,
   "id": "6c248699",
   "metadata": {},
   "outputs": [
    {
     "name": "stdout",
     "output_type": "stream",
     "text": [
      "Model: \"model\"\n",
      "_________________________________________________________________\n",
      " Layer (type)                Output Shape              Param #   \n",
      "=================================================================\n",
      " input_1 (InputLayer)        [(None, 224, 224, 3)]     0         \n",
      "                                                                 \n",
      " block1_conv1 (Conv2D)       (None, 224, 224, 64)      1792      \n",
      "                                                                 \n",
      " block1_conv2 (Conv2D)       (None, 224, 224, 64)      36928     \n",
      "                                                                 \n",
      " block1_pool (MaxPooling2D)  (None, 112, 112, 64)      0         \n",
      "                                                                 \n",
      " block2_conv1 (Conv2D)       (None, 112, 112, 128)     73856     \n",
      "                                                                 \n",
      " block2_conv2 (Conv2D)       (None, 112, 112, 128)     147584    \n",
      "                                                                 \n",
      " block2_pool (MaxPooling2D)  (None, 56, 56, 128)       0         \n",
      "                                                                 \n",
      " block3_conv1 (Conv2D)       (None, 56, 56, 256)       295168    \n",
      "                                                                 \n",
      " block3_conv2 (Conv2D)       (None, 56, 56, 256)       590080    \n",
      "                                                                 \n",
      " block3_conv3 (Conv2D)       (None, 56, 56, 256)       590080    \n",
      "                                                                 \n",
      " block3_conv4 (Conv2D)       (None, 56, 56, 256)       590080    \n",
      "                                                                 \n",
      " block3_pool (MaxPooling2D)  (None, 28, 28, 256)       0         \n",
      "                                                                 \n",
      " block4_conv1 (Conv2D)       (None, 28, 28, 512)       1180160   \n",
      "                                                                 \n",
      " block4_conv2 (Conv2D)       (None, 28, 28, 512)       2359808   \n",
      "                                                                 \n",
      " block4_conv3 (Conv2D)       (None, 28, 28, 512)       2359808   \n",
      "                                                                 \n",
      " block4_conv4 (Conv2D)       (None, 28, 28, 512)       2359808   \n",
      "                                                                 \n",
      " block4_pool (MaxPooling2D)  (None, 14, 14, 512)       0         \n",
      "                                                                 \n",
      " block5_conv1 (Conv2D)       (None, 14, 14, 512)       2359808   \n",
      "                                                                 \n",
      " block5_conv2 (Conv2D)       (None, 14, 14, 512)       2359808   \n",
      "                                                                 \n",
      " block5_conv3 (Conv2D)       (None, 14, 14, 512)       2359808   \n",
      "                                                                 \n",
      " block5_conv4 (Conv2D)       (None, 14, 14, 512)       2359808   \n",
      "                                                                 \n",
      " block5_pool (MaxPooling2D)  (None, 7, 7, 512)         0         \n",
      "                                                                 \n",
      " flatten (Flatten)           (None, 25088)             0         \n",
      "                                                                 \n",
      " dense (Dense)               (None, 142)               3562638   \n",
      "                                                                 \n",
      "=================================================================\n",
      "Total params: 23,587,022\n",
      "Trainable params: 3,562,638\n",
      "Non-trainable params: 20,024,384\n",
      "_________________________________________________________________\n"
     ]
    }
   ],
   "source": [
    "model.summary()"
   ]
  },
  {
   "cell_type": "code",
   "execution_count": 14,
   "id": "661bd1ad",
   "metadata": {},
   "outputs": [],
   "source": [
    "model.compile(loss='categorical_crossentropy',optimizer='adam',metrics=['accuracy'])"
   ]
  },
  {
   "cell_type": "code",
   "execution_count": 15,
   "id": "12b76fce",
   "metadata": {},
   "outputs": [],
   "source": [
    "early_stop = EarlyStopping(monitor='val_accuracy', \n",
    "                           patience=5,verbose=1,mode='auto')\n",
    "\n",
    "lr = ReduceLROnPlateau(monitor='val_accuracy', \n",
    "                       factor=0.2,patience=5, \n",
    "                       min_lr=0.00001)\n",
    "\n",
    "callback = [early_stop,lr]"
   ]
  },
  {
   "cell_type": "code",
   "execution_count": null,
   "id": "74046d88",
   "metadata": {},
   "outputs": [],
   "source": [
    "result = model.fit_generator(training_set, validation_data=testing_set, epochs=50,steps_per_epoch=len(training_set),\n",
    "  validation_steps=len(testing_set),callbacks=callback)"
   ]
  },
  {
   "cell_type": "code",
   "execution_count": null,
   "id": "dc5d239f",
   "metadata": {},
   "outputs": [],
   "source": [
    "#plot the loss\n",
    "plt.plot(result.history['loss'], label='train loss')\n",
    "plt.plot(result.history['val_loss'], label='val loss')\n",
    "plt.legend()\n",
    "plt.show()\n",
    "\n",
    "# plot the accuracy\n",
    "plt.plot(result.history['accuracy'], label='train acc')\n",
    "plt.plot(result.history['val_accuracy'], label='val acc')\n",
    "plt.legend()\n",
    "plt.show()"
   ]
  },
  {
   "cell_type": "code",
   "execution_count": null,
   "id": "dfd9849c",
   "metadata": {},
   "outputs": [],
   "source": [
    "model.save('dnai.h5')"
   ]
  }
 ],
 "metadata": {
  "kernelspec": {
   "display_name": "kerasflow",
   "language": "python",
   "name": "kerasflow"
  },
  "language_info": {
   "codemirror_mode": {
    "name": "ipython",
    "version": 3
   },
   "file_extension": ".py",
   "mimetype": "text/x-python",
   "name": "python",
   "nbconvert_exporter": "python",
   "pygments_lexer": "ipython3",
   "version": "3.8.8"
  }
 },
 "nbformat": 4,
 "nbformat_minor": 5
}
