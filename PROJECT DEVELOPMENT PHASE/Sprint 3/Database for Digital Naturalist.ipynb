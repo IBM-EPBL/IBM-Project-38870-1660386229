{
 "cells": [
  {
   "cell_type": "markdown",
   "id": "afd3fa71",
   "metadata": {},
   "source": [
    "# Database creation - Sprint 3"
   ]
  },
  {
   "cell_type": "code",
   "execution_count": 1,
   "id": "a4b5a9bb",
   "metadata": {},
   "outputs": [],
   "source": [
    "import sqlite3"
   ]
  },
  {
   "cell_type": "code",
   "execution_count": 2,
   "id": "f6777e7f",
   "metadata": {},
   "outputs": [
    {
     "data": {
      "text/plain": [
       "<sqlite3.Cursor at 0x28799bb6c70>"
      ]
     },
     "execution_count": 2,
     "metadata": {},
     "output_type": "execute_result"
    }
   ],
   "source": [
    "conn = sqlite3.connect(\"species.db\")\n",
    "conn.execute('''CREATE TABLE SPECIES(ID INTEGER NOT NULL,SPECIES TEXT NOT NULL, GENUS TEXT NOT NULL);''')"
   ]
  },
  {
   "cell_type": "markdown",
   "id": "e49b8e5f",
   "metadata": {},
   "source": [
    "# Pushing all the data into DB"
   ]
  },
  {
   "cell_type": "code",
   "execution_count": 3,
   "id": "3a8e4463",
   "metadata": {},
   "outputs": [],
   "source": [
    "animals = ['Pangolin Mammal', 'Senenca White Deer Mammal', 'antelope', 'badger', 'bear', 'bison',\n",
    " 'boar', 'cat', 'chimpanzee', 'cow', 'coyote', 'deer', 'dog', 'donkey',\n",
    " 'elephant', 'fox', 'goat', 'gorilla', 'hamster', 'hare', 'hedgehog', 'hippopotamus', 'horse', 'hyena',\n",
    " 'kangaroo', 'koala', 'leopard', 'lion', 'lizard', 'mouse', 'okapi', 'orangutan',\n",
    " 'otter', 'ox', 'panda', 'pig', 'porcupine', 'possum', 'raccoon', 'rat', 'reindeer', 'rhinoceros',\n",
    " 'sheep', 'snake', 'squirrel', 'tiger', 'wolf', 'wombat', 'zebra']\n",
    "\n",
    "for i in range(len(animals)):\n",
    "    conn.execute(f'''INSERT INTO SPECIES VALUES('{i}','Animals',\"{animals[i]}\")''')\n",
    "conn.commit()"
   ]
  },
  {
   "cell_type": "code",
   "execution_count": 4,
   "id": "b7910bef",
   "metadata": {},
   "outputs": [],
   "source": [
    "birds = ['Great Indian Bustard Bird', 'Spoon Billed Sandpiper Bird', 'bat', 'crow',\n",
    " 'duck', 'eagle', 'flamingo', 'goose', 'hornbill', 'hummingbird',\n",
    " 'owl', 'parrot', 'pelecaniformes', 'penguin', 'pigeon', 'sandpiper', 'sparrow',\n",
    " 'swan', 'turkey', 'woodpecker']\n",
    "\n",
    "for i in range(len(birds)):\n",
    "    conn.execute(f'''INSERT INTO SPECIES VALUES('{i}','Birds',\"{birds[i]}\")''')\n",
    "conn.commit()"
   ]
  },
  {
   "cell_type": "code",
   "execution_count": 5,
   "id": "5cdc0456",
   "metadata": {},
   "outputs": [],
   "source": [
    "flowers = ['Bluebell', 'Buttercup', 'Coltsfoot', 'Corpse Flower', 'Cowslip', 'Crocus', 'Daffodil',\n",
    " 'Fritillary', 'Iris', 'Lady Slipper Orchid Flower', 'Lily Valley', 'Pansy', 'Snowdrop',\n",
    " 'Tigerlily', 'Windflower', 'daisy', 'dandelion', 'rose', 'sunflower', 'tulip']\n",
    "\n",
    "for i in range(len(flowers)):\n",
    "    conn.execute(f'''INSERT INTO SPECIES VALUES('{i}','Flowers',\"{flowers[i]}\")''')\n",
    "conn.commit()"
   ]
  },
  {
   "cell_type": "code",
   "execution_count": 6,
   "id": "2dd2bff1",
   "metadata": {},
   "outputs": [],
   "source": [
    "insects = ['bee', 'beetle', 'butterfly', 'caterpillar', 'cockroach',\n",
    " 'dragonfly', 'fly', 'grasshopper', 'ladybugs', 'mosquito', 'moth']\n",
    "\n",
    "for i in range(len(insects)):\n",
    "    conn.execute(f'''INSERT INTO SPECIES VALUES('{i}','Insects',\"{insects[i]}\")''')\n",
    "conn.commit()"
   ]
  },
  {
   "cell_type": "code",
   "execution_count": 7,
   "id": "34f1b1b1",
   "metadata": {},
   "outputs": [],
   "source": [
    "leaves = ['Apple Leaf', 'Arrowhead Leaf', 'Bamboo Leaf', 'Banana Leaf', 'Currant Leaf', 'Curry Leaf',\n",
    " 'Duckpotato Leaf', 'Fig Leaf', 'Gooseberry Leaf', 'Guava Leaf', 'Lemon Leaf', 'Mango Leaf',\n",
    " 'Mulberry Leaf', 'Papaya Leaf', 'Pine Leaf', 'Raddish Leaf', 'Raspberry Leaf',\n",
    " 'Rose Leaf', 'Tangerine Leaf', 'Tomato Leaf', 'WaterOak Leaf']\n",
    "\n",
    "for i in range(len(leaves)):\n",
    "    conn.execute(f'''INSERT INTO SPECIES VALUES('{i}','Leaves',\"{leaves[i]}\")''')\n",
    "conn.commit()"
   ]
  },
  {
   "cell_type": "code",
   "execution_count": 8,
   "id": "4f3a6121",
   "metadata": {},
   "outputs": [],
   "source": [
    "sea = ['Corals', 'Crabs', 'Dolphin', 'Eel', 'Jelly Fish', 'Lobster', 'Nudibranchs', 'Octopus', 'Penguin',\n",
    " 'Puffers', 'Sea Rays', 'Sea Urchins', 'Seahorse', 'Seal', 'Sharks', 'Squid',\n",
    " 'Starfish', 'Turtle_Tortoise', 'Whale', 'goldfish', 'oyster']\n",
    "\n",
    "for i in range(len(sea)):\n",
    "    conn.execute(f'''INSERT INTO SPECIES VALUES('{i}','Sea Animals',\"{sea[i]}\")''')\n",
    "conn.commit()"
   ]
  },
  {
   "cell_type": "markdown",
   "id": "369debe4",
   "metadata": {},
   "source": [
    "# Testing the Database"
   ]
  },
  {
   "cell_type": "code",
   "execution_count": 13,
   "id": "d0b36698",
   "metadata": {},
   "outputs": [
    {
     "name": "stdout",
     "output_type": "stream",
     "text": [
      "Seahorse\n"
     ]
    }
   ],
   "source": [
    "id1 = 12\n",
    "species = \"Sea Animals\"\n",
    "cursor = conn.execute(f'''SELECT GENUS FROM SPECIES WHERE SPECIES==\"{species}\" AND ID==\"{id1}\"''')\n",
    "send = cursor.fetchall()[0][0]\n",
    "print(send)"
   ]
  }
 ],
 "metadata": {
  "kernelspec": {
   "display_name": "kerasflow",
   "language": "python",
   "name": "kerasflow"
  },
  "language_info": {
   "codemirror_mode": {
    "name": "ipython",
    "version": 3
   },
   "file_extension": ".py",
   "mimetype": "text/x-python",
   "name": "python",
   "nbconvert_exporter": "python",
   "pygments_lexer": "ipython3",
   "version": "3.8.8"
  }
 },
 "nbformat": 4,
 "nbformat_minor": 5
}
