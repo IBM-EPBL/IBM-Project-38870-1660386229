{
 "cells": [
  {
   "cell_type": "markdown",
   "id": "c999f351",
   "metadata": {},
   "source": [
    "# Assignment 4 - Mythili K"
   ]
  },
  {
   "cell_type": "markdown",
   "id": "0c5f68be",
   "metadata": {},
   "source": [
    "## 1. Importing libraries"
   ]
  },
  {
   "cell_type": "code",
   "execution_count": 1,
   "id": "fe3d55e1",
   "metadata": {},
   "outputs": [],
   "source": [
    "# Importing libraries\n",
    "\n",
    "import numpy as np\n",
    "import pandas as pd\n",
    "import seaborn as sns\n",
    "import matplotlib.pyplot as plt\n",
    "%matplotlib inline\n",
    "\n",
    "# Tokenization libraries\n",
    "import re\n",
    "import nltk\n",
    "from nltk.corpus import stopwords\n",
    "from nltk.stem import PorterStemmer\n",
    "from tensorflow.keras.preprocessing.text import one_hot\n",
    "from tensorflow.keras.preprocessing.sequence import pad_sequences\n",
    "from sklearn.model_selection import train_test_split\n",
    "from tensorflow.keras.layers import LSTM,Dense,Embedding,Dropout\n",
    "from tensorflow.keras.models import Sequential\n",
    "from tensorflow.keras.optimizers import Adam\n",
    "from sklearn.metrics import accuracy_score,confusion_matrix"
   ]
  },
  {
   "cell_type": "code",
   "execution_count": 2,
   "id": "3e390483",
   "metadata": {},
   "outputs": [
    {
     "data": {
      "text/html": [
       "<div>\n",
       "<style scoped>\n",
       "    .dataframe tbody tr th:only-of-type {\n",
       "        vertical-align: middle;\n",
       "    }\n",
       "\n",
       "    .dataframe tbody tr th {\n",
       "        vertical-align: top;\n",
       "    }\n",
       "\n",
       "    .dataframe thead th {\n",
       "        text-align: right;\n",
       "    }\n",
       "</style>\n",
       "<table border=\"1\" class=\"dataframe\">\n",
       "  <thead>\n",
       "    <tr style=\"text-align: right;\">\n",
       "      <th></th>\n",
       "      <th>v1</th>\n",
       "      <th>v2</th>\n",
       "      <th>Unnamed: 2</th>\n",
       "      <th>Unnamed: 3</th>\n",
       "      <th>Unnamed: 4</th>\n",
       "    </tr>\n",
       "  </thead>\n",
       "  <tbody>\n",
       "    <tr>\n",
       "      <th>0</th>\n",
       "      <td>ham</td>\n",
       "      <td>Go until jurong point, crazy.. Available only ...</td>\n",
       "      <td>NaN</td>\n",
       "      <td>NaN</td>\n",
       "      <td>NaN</td>\n",
       "    </tr>\n",
       "    <tr>\n",
       "      <th>1</th>\n",
       "      <td>ham</td>\n",
       "      <td>Ok lar... Joking wif u oni...</td>\n",
       "      <td>NaN</td>\n",
       "      <td>NaN</td>\n",
       "      <td>NaN</td>\n",
       "    </tr>\n",
       "    <tr>\n",
       "      <th>2</th>\n",
       "      <td>spam</td>\n",
       "      <td>Free entry in 2 a wkly comp to win FA Cup fina...</td>\n",
       "      <td>NaN</td>\n",
       "      <td>NaN</td>\n",
       "      <td>NaN</td>\n",
       "    </tr>\n",
       "    <tr>\n",
       "      <th>3</th>\n",
       "      <td>ham</td>\n",
       "      <td>U dun say so early hor... U c already then say...</td>\n",
       "      <td>NaN</td>\n",
       "      <td>NaN</td>\n",
       "      <td>NaN</td>\n",
       "    </tr>\n",
       "    <tr>\n",
       "      <th>4</th>\n",
       "      <td>ham</td>\n",
       "      <td>Nah I don't think he goes to usf, he lives aro...</td>\n",
       "      <td>NaN</td>\n",
       "      <td>NaN</td>\n",
       "      <td>NaN</td>\n",
       "    </tr>\n",
       "  </tbody>\n",
       "</table>\n",
       "</div>"
      ],
      "text/plain": [
       "     v1                                                 v2 Unnamed: 2  \\\n",
       "0   ham  Go until jurong point, crazy.. Available only ...        NaN   \n",
       "1   ham                      Ok lar... Joking wif u oni...        NaN   \n",
       "2  spam  Free entry in 2 a wkly comp to win FA Cup fina...        NaN   \n",
       "3   ham  U dun say so early hor... U c already then say...        NaN   \n",
       "4   ham  Nah I don't think he goes to usf, he lives aro...        NaN   \n",
       "\n",
       "  Unnamed: 3 Unnamed: 4  \n",
       "0        NaN        NaN  \n",
       "1        NaN        NaN  \n",
       "2        NaN        NaN  \n",
       "3        NaN        NaN  \n",
       "4        NaN        NaN  "
      ]
     },
     "execution_count": 2,
     "metadata": {},
     "output_type": "execute_result"
    }
   ],
   "source": [
    "# Reading the dataset\n",
    "df = pd.read_csv(\"spam.csv\",delimiter = ',',encoding='latin-1')\n",
    "df.head()"
   ]
  },
  {
   "cell_type": "code",
   "execution_count": 3,
   "id": "9862caf2",
   "metadata": {},
   "outputs": [
    {
     "data": {
      "text/plain": [
       "Index(['v1', 'v2', 'Unnamed: 2', 'Unnamed: 3', 'Unnamed: 4'], dtype='object')"
      ]
     },
     "execution_count": 3,
     "metadata": {},
     "output_type": "execute_result"
    }
   ],
   "source": [
    "df.columns\n"
   ]
  },
  {
   "cell_type": "code",
   "execution_count": 4,
   "id": "da73217d",
   "metadata": {},
   "outputs": [],
   "source": [
    "# Deleting unwanted columns and renaming the colunmns\n",
    "df = df.drop(columns=['Unnamed: 2', 'Unnamed: 3', 'Unnamed: 4'])\n",
    "df = df.rename(\n",
    "{\n",
    "    'v1':'Label',\n",
    "    'v2':'Message'\n",
    "},\n",
    "    axis=1\n",
    ")"
   ]
  },
  {
   "cell_type": "code",
   "execution_count": 5,
   "id": "3414c0ed",
   "metadata": {},
   "outputs": [
    {
     "name": "stdout",
     "output_type": "stream",
     "text": [
      "<class 'pandas.core.frame.DataFrame'>\n",
      "RangeIndex: 5572 entries, 0 to 5571\n",
      "Data columns (total 2 columns):\n",
      " #   Column   Non-Null Count  Dtype \n",
      "---  ------   --------------  ----- \n",
      " 0   Label    5572 non-null   object\n",
      " 1   Message  5572 non-null   object\n",
      "dtypes: object(2)\n",
      "memory usage: 87.2+ KB\n"
     ]
    }
   ],
   "source": [
    "df.info()"
   ]
  },
  {
   "cell_type": "code",
   "execution_count": 6,
   "id": "5f38380c",
   "metadata": {},
   "outputs": [
    {
     "data": {
      "text/plain": [
       "Label      0\n",
       "Message    0\n",
       "dtype: int64"
      ]
     },
     "execution_count": 6,
     "metadata": {},
     "output_type": "execute_result"
    }
   ],
   "source": [
    "# Checking for null values\n",
    "df.isnull().sum()"
   ]
  },
  {
   "cell_type": "code",
   "execution_count": 7,
   "id": "9b657c28",
   "metadata": {},
   "outputs": [],
   "source": [
    "# Creating Message length as new column\n",
    "df[\"Message Length\"] = df[\"Message\"].apply(len)"
   ]
  },
  {
   "cell_type": "code",
   "execution_count": 8,
   "id": "bba170cd",
   "metadata": {},
   "outputs": [
    {
     "data": {
      "text/html": [
       "<div>\n",
       "<style scoped>\n",
       "    .dataframe tbody tr th:only-of-type {\n",
       "        vertical-align: middle;\n",
       "    }\n",
       "\n",
       "    .dataframe tbody tr th {\n",
       "        vertical-align: top;\n",
       "    }\n",
       "\n",
       "    .dataframe thead th {\n",
       "        text-align: right;\n",
       "    }\n",
       "</style>\n",
       "<table border=\"1\" class=\"dataframe\">\n",
       "  <thead>\n",
       "    <tr style=\"text-align: right;\">\n",
       "      <th></th>\n",
       "      <th>Label</th>\n",
       "      <th>Message</th>\n",
       "      <th>Message Length</th>\n",
       "    </tr>\n",
       "  </thead>\n",
       "  <tbody>\n",
       "    <tr>\n",
       "      <th>0</th>\n",
       "      <td>ham</td>\n",
       "      <td>Go until jurong point, crazy.. Available only ...</td>\n",
       "      <td>111</td>\n",
       "    </tr>\n",
       "    <tr>\n",
       "      <th>1</th>\n",
       "      <td>ham</td>\n",
       "      <td>Ok lar... Joking wif u oni...</td>\n",
       "      <td>29</td>\n",
       "    </tr>\n",
       "    <tr>\n",
       "      <th>2</th>\n",
       "      <td>spam</td>\n",
       "      <td>Free entry in 2 a wkly comp to win FA Cup fina...</td>\n",
       "      <td>155</td>\n",
       "    </tr>\n",
       "    <tr>\n",
       "      <th>3</th>\n",
       "      <td>ham</td>\n",
       "      <td>U dun say so early hor... U c already then say...</td>\n",
       "      <td>49</td>\n",
       "    </tr>\n",
       "    <tr>\n",
       "      <th>4</th>\n",
       "      <td>ham</td>\n",
       "      <td>Nah I don't think he goes to usf, he lives aro...</td>\n",
       "      <td>61</td>\n",
       "    </tr>\n",
       "  </tbody>\n",
       "</table>\n",
       "</div>"
      ],
      "text/plain": [
       "  Label                                            Message  Message Length\n",
       "0   ham  Go until jurong point, crazy.. Available only ...             111\n",
       "1   ham                      Ok lar... Joking wif u oni...              29\n",
       "2  spam  Free entry in 2 a wkly comp to win FA Cup fina...             155\n",
       "3   ham  U dun say so early hor... U c already then say...              49\n",
       "4   ham  Nah I don't think he goes to usf, he lives aro...              61"
      ]
     },
     "execution_count": 8,
     "metadata": {},
     "output_type": "execute_result"
    }
   ],
   "source": [
    "df.head()"
   ]
  },
  {
   "cell_type": "markdown",
   "id": "6e91103b",
   "metadata": {},
   "source": [
    "## 2.Message length visualization "
   ]
  },
  {
   "cell_type": "code",
   "execution_count": 9,
   "id": "6b824bb8",
   "metadata": {},
   "outputs": [
    {
     "data": {
      "image/png": "[encoded data removed]",
      "text/plain": [
       "<Figure size 864x576 with 1 Axes>"
      ]
     },
     "metadata": {
      "needs_background": "light"
     },
     "output_type": "display_data"
    }
   ],
   "source": [
    "fig=plt.figure(figsize=(12,8))\n",
    "sns.histplot(\n",
    "    x=df[\"Message Length\"],\n",
    "    hue=df[\"Label\"]\n",
    ")\n",
    "plt.title(\"Length comparison\")\n",
    "plt.show()"
   ]
  },
  {
   "cell_type": "markdown",
   "id": "643c10eb",
   "metadata": {},
   "source": [
    "## 3.Message Description"
   ]
  },
  {
   "cell_type": "code",
   "execution_count": 10,
   "id": "97e75f89",
   "metadata": {},
   "outputs": [
    {
     "name": "stdout",
     "output_type": "stream",
     "text": [
      "Description of ham messages:\n",
      "count    4825.000000\n",
      "mean       71.023627\n",
      "std        58.016023\n",
      "min         2.000000\n",
      "25%        33.000000\n",
      "50%        52.000000\n",
      "75%        92.000000\n",
      "max       910.000000\n",
      "Name: Message Length, dtype: float64\n",
      "\n",
      "Description of ham messages:\n",
      "count    747.000000\n",
      "mean     138.866131\n",
      "std       29.183082\n",
      "min       13.000000\n",
      "25%      132.500000\n",
      "50%      149.000000\n",
      "75%      157.000000\n",
      "max      224.000000\n",
      "Name: Message Length, dtype: float64\n"
     ]
    }
   ],
   "source": [
    "#Ham message description\n",
    "ham_len = df[df['Label']==\"ham\"][\"Message Length\"].describe()\n",
    "print(\"Description of ham messages:\")\n",
    "print(ham_len)\n",
    "print()\n",
    "#Spam message description\n",
    "spam_len = df[df['Label']==\"spam\"][\"Message Length\"].describe()\n",
    "print(\"Description of ham messages:\")\n",
    "print(spam_len)"
   ]
  },
  {
   "cell_type": "code",
   "execution_count": 11,
   "id": "c57ede88",
   "metadata": {},
   "outputs": [
    {
     "data": {
      "text/html": [
       "<div>\n",
       "<style scoped>\n",
       "    .dataframe tbody tr th:only-of-type {\n",
       "        vertical-align: middle;\n",
       "    }\n",
       "\n",
       "    .dataframe tbody tr th {\n",
       "        vertical-align: top;\n",
       "    }\n",
       "\n",
       "    .dataframe thead th {\n",
       "        text-align: right;\n",
       "    }\n",
       "</style>\n",
       "<table border=\"1\" class=\"dataframe\">\n",
       "  <thead>\n",
       "    <tr style=\"text-align: right;\">\n",
       "      <th></th>\n",
       "      <th>Message Length</th>\n",
       "    </tr>\n",
       "  </thead>\n",
       "  <tbody>\n",
       "    <tr>\n",
       "      <th>count</th>\n",
       "      <td>5572.000000</td>\n",
       "    </tr>\n",
       "    <tr>\n",
       "      <th>mean</th>\n",
       "      <td>80.118808</td>\n",
       "    </tr>\n",
       "    <tr>\n",
       "      <th>std</th>\n",
       "      <td>59.690841</td>\n",
       "    </tr>\n",
       "    <tr>\n",
       "      <th>min</th>\n",
       "      <td>2.000000</td>\n",
       "    </tr>\n",
       "    <tr>\n",
       "      <th>25%</th>\n",
       "      <td>36.000000</td>\n",
       "    </tr>\n",
       "    <tr>\n",
       "      <th>50%</th>\n",
       "      <td>61.000000</td>\n",
       "    </tr>\n",
       "    <tr>\n",
       "      <th>75%</th>\n",
       "      <td>121.000000</td>\n",
       "    </tr>\n",
       "    <tr>\n",
       "      <th>max</th>\n",
       "      <td>910.000000</td>\n",
       "    </tr>\n",
       "  </tbody>\n",
       "</table>\n",
       "</div>"
      ],
      "text/plain": [
       "       Message Length\n",
       "count     5572.000000\n",
       "mean        80.118808\n",
       "std         59.690841\n",
       "min          2.000000\n",
       "25%         36.000000\n",
       "50%         61.000000\n",
       "75%        121.000000\n",
       "max        910.000000"
      ]
     },
     "execution_count": 11,
     "metadata": {},
     "output_type": "execute_result"
    }
   ],
   "source": [
    "df.describe()"
   ]
  },
  {
   "cell_type": "code",
   "execution_count": 12,
   "id": "cc51f8f8",
   "metadata": {},
   "outputs": [
    {
     "data": {
      "text/plain": [
       "ham     4825\n",
       "spam     747\n",
       "Name: Label, dtype: int64"
      ]
     },
     "execution_count": 12,
     "metadata": {},
     "output_type": "execute_result"
    }
   ],
   "source": [
    "# Two unique values\n",
    "df['Label'].value_counts()"
   ]
  },
  {
   "cell_type": "code",
   "execution_count": 13,
   "id": "69bbc329",
   "metadata": {},
   "outputs": [
    {
     "data": {
      "image/png": "[encoded data removed]",
      "text/plain": [
       "<Figure size 432x288 with 1 Axes>"
      ]
     },
     "metadata": {
      "needs_background": "light"
     },
     "output_type": "display_data"
    }
   ],
   "source": [
    "# Visualization of labels\n",
    "sns.countplot(data=df,x='Label')\n",
    "plt.title('Plot of ham and spam messages')\n",
    "plt.show()"
   ]
  },
  {
   "cell_type": "markdown",
   "id": "db8a591d",
   "metadata": {},
   "source": [
    "### The dataset is imbalanced with more than 85% of ham message and 15% of spam message"
   ]
  },
  {
   "cell_type": "markdown",
   "id": "7e2fcd69",
   "metadata": {},
   "source": [
    "## 4.Undersampling"
   ]
  },
  {
   "cell_type": "code",
   "execution_count": 14,
   "id": "e82eb9ae",
   "metadata": {},
   "outputs": [],
   "source": [
    "# Length computation\n",
    "maj_len = len(df[df['Label']=='ham'])\n",
    "min_len = len(df[df['Label']=='spam'])\n",
    "\n",
    "#Storing of indices\n",
    "maj_index = df[df['Label'] == 'ham'].index\n",
    "min_index = df[df['Label'] == 'spam'].index\n",
    "\n",
    "#new index\n",
    "new_index = np.random.choice(maj_index,size=min_len,replace=False)"
   ]
  },
  {
   "cell_type": "code",
   "execution_count": 15,
   "id": "1f95b2bb",
   "metadata": {},
   "outputs": [],
   "source": [
    "# Concatenate two indices\n",
    "df1 = np.concatenate([min_index,new_index])"
   ]
  },
  {
   "cell_type": "code",
   "execution_count": 16,
   "id": "5977bd55",
   "metadata": {},
   "outputs": [],
   "source": [
    "#new Dataframe\n",
    "df1 = df.loc[df1]"
   ]
  },
  {
   "cell_type": "code",
   "execution_count": 17,
   "id": "11c8e16d",
   "metadata": {},
   "outputs": [
    {
     "data": {
      "text/plain": [
       "(1494, 3)"
      ]
     },
     "execution_count": 17,
     "metadata": {},
     "output_type": "execute_result"
    }
   ],
   "source": [
    "# Shuffling the sample\n",
    "df1=df1.sample(frac=1)\n",
    "df1=df1.reset_index()\n",
    "df1 = df1.drop(\n",
    "    columns=['index']\n",
    ")\n",
    "#shape \n",
    "df1.shape"
   ]
  },
  {
   "cell_type": "code",
   "execution_count": 18,
   "id": "bba28df6",
   "metadata": {},
   "outputs": [
    {
     "data": {
      "text/plain": [
       "spam    747\n",
       "ham     747\n",
       "Name: Label, dtype: int64"
      ]
     },
     "execution_count": 18,
     "metadata": {},
     "output_type": "execute_result"
    }
   ],
   "source": [
    "df1['Label'].value_counts()"
   ]
  },
  {
   "cell_type": "code",
   "execution_count": 19,
   "id": "5392f08f",
   "metadata": {},
   "outputs": [
    {
     "data": {
      "image/png": "[encoded data removed]",
      "text/plain": [
       "<Figure size 432x288 with 1 Axes>"
      ]
     },
     "metadata": {
      "needs_background": "light"
     },
     "output_type": "display_data"
    }
   ],
   "source": [
    "# Visualization of labels after undersampling\n",
    "sns.countplot(data=df1,x='Label')\n",
    "plt.title('Plot of ham and spam messages')\n",
    "plt.show()"
   ]
  },
  {
   "cell_type": "code",
   "execution_count": 20,
   "id": "5aaba2ec",
   "metadata": {},
   "outputs": [
    {
     "data": {
      "text/html": [
       "<div>\n",
       "<style scoped>\n",
       "    .dataframe tbody tr th:only-of-type {\n",
       "        vertical-align: middle;\n",
       "    }\n",
       "\n",
       "    .dataframe tbody tr th {\n",
       "        vertical-align: top;\n",
       "    }\n",
       "\n",
       "    .dataframe thead th {\n",
       "        text-align: right;\n",
       "    }\n",
       "</style>\n",
       "<table border=\"1\" class=\"dataframe\">\n",
       "  <thead>\n",
       "    <tr style=\"text-align: right;\">\n",
       "      <th></th>\n",
       "      <th>Label</th>\n",
       "      <th>Message</th>\n",
       "      <th>Message Length</th>\n",
       "      <th>Value</th>\n",
       "    </tr>\n",
       "  </thead>\n",
       "  <tbody>\n",
       "    <tr>\n",
       "      <th>0</th>\n",
       "      <td>spam</td>\n",
       "      <td>You have won a guaranteed å£200 award or even ...</td>\n",
       "      <td>143</td>\n",
       "      <td>1</td>\n",
       "    </tr>\n",
       "    <tr>\n",
       "      <th>1</th>\n",
       "      <td>spam</td>\n",
       "      <td>You have been selected to stay in 1 of 250 top...</td>\n",
       "      <td>147</td>\n",
       "      <td>1</td>\n",
       "    </tr>\n",
       "    <tr>\n",
       "      <th>2</th>\n",
       "      <td>ham</td>\n",
       "      <td>\\Keep ur problems in ur heart</td>\n",
       "      <td>29</td>\n",
       "      <td>0</td>\n",
       "    </tr>\n",
       "    <tr>\n",
       "      <th>3</th>\n",
       "      <td>spam</td>\n",
       "      <td>WIN a year supply of CDs 4 a store of ur choic...</td>\n",
       "      <td>147</td>\n",
       "      <td>1</td>\n",
       "    </tr>\n",
       "    <tr>\n",
       "      <th>4</th>\n",
       "      <td>spam</td>\n",
       "      <td>FreeMsg: Fancy a flirt? Reply DATE now &amp; join ...</td>\n",
       "      <td>156</td>\n",
       "      <td>1</td>\n",
       "    </tr>\n",
       "  </tbody>\n",
       "</table>\n",
       "</div>"
      ],
      "text/plain": [
       "  Label                                            Message  Message Length  \\\n",
       "0  spam  You have won a guaranteed å£200 award or even ...             143   \n",
       "1  spam  You have been selected to stay in 1 of 250 top...             147   \n",
       "2   ham                      \\Keep ur problems in ur heart              29   \n",
       "3  spam  WIN a year supply of CDs 4 a store of ur choic...             147   \n",
       "4  spam  FreeMsg: Fancy a flirt? Reply DATE now & join ...             156   \n",
       "\n",
       "   Value  \n",
       "0      1  \n",
       "1      1  \n",
       "2      0  \n",
       "3      1  \n",
       "4      1  "
      ]
     },
     "execution_count": 20,
     "metadata": {},
     "output_type": "execute_result"
    }
   ],
   "source": [
    "#Encoding ham and spam\n",
    "df1['Value'] = df1['Label'].map(\n",
    "{\n",
    "    \"ham\" : 0,\n",
    "    \"spam\" : 1\n",
    "}\n",
    ")\n",
    "df1.head()"
   ]
  },
  {
   "cell_type": "code",
   "execution_count": 21,
   "id": "0aad3fef",
   "metadata": {},
   "outputs": [],
   "source": [
    "stemmer = PorterStemmer()\n",
    "corpus = []\n",
    "for msg in df1[\"Message\"]:\n",
    "    msg = re.sub('[^a-zA-Z]',\" \",msg)\n",
    "    msg = msg.lower()\n",
    "    msg = msg.split()\n",
    "    msg = [stemmer.stem(words)\n",
    "           for words in msg\n",
    "           if words not in set(stopwords.words(\"english\"))\n",
    "          ]\n",
    "    msg = \" \".join(msg)\n",
    "    corpus.append(msg)"
   ]
  },
  {
   "cell_type": "code",
   "execution_count": 22,
   "id": "49428545",
   "metadata": {},
   "outputs": [],
   "source": [
    "vocab = 10000\n",
    "onehot_doc = [one_hot(words,n=vocab)\n",
    "             for words in corpus]"
   ]
  },
  {
   "cell_type": "code",
   "execution_count": 23,
   "id": "cd291cd9",
   "metadata": {},
   "outputs": [
    {
     "data": {
      "text/plain": [
       "count    1494.000000\n",
       "mean      105.265730\n",
       "std        56.849913\n",
       "min         3.000000\n",
       "25%        50.250000\n",
       "50%       120.000000\n",
       "75%       153.000000\n",
       "max       588.000000\n",
       "Name: Message Length, dtype: float64"
      ]
     },
     "execution_count": 23,
     "metadata": {},
     "output_type": "execute_result"
    }
   ],
   "source": [
    "df1[\"Message Length\"].describe()"
   ]
  },
  {
   "cell_type": "code",
   "execution_count": 24,
   "id": "42b2a0a8",
   "metadata": {
    "scrolled": true
   },
   "outputs": [
    {
     "data": {
      "image/png": "[encoded data removed]",
      "text/plain": [
       "<Figure size 864x576 with 1 Axes>"
      ]
     },
     "metadata": {
      "needs_background": "light"
     },
     "output_type": "display_data"
    }
   ],
   "source": [
    "fig=plt.figure(figsize=(12,8))\n",
    "sns.kdeplot(\n",
    "    x = df1['Message Length'],\n",
    "    hue = df1['Label']\n",
    ")\n",
    "plt.title(\"Length comparison\")\n",
    "plt.show()"
   ]
  },
  {
   "cell_type": "code",
   "execution_count": 25,
   "id": "ce5e6f63",
   "metadata": {},
   "outputs": [],
   "source": [
    "# word embedding\n",
    "sen_len = 200\n",
    "embed = pad_sequences(onehot_doc,maxlen=sen_len,padding=\"pre\")"
   ]
  },
  {
   "cell_type": "code",
   "execution_count": 26,
   "id": "fd78f486",
   "metadata": {},
   "outputs": [
    {
     "name": "stdout",
     "output_type": "stream",
     "text": [
      "<class 'pandas.core.frame.DataFrame'>\n",
      "RangeIndex: 1494 entries, 0 to 1493\n",
      "Data columns (total 4 columns):\n",
      " #   Column          Non-Null Count  Dtype \n",
      "---  ------          --------------  ----- \n",
      " 0   Label           1494 non-null   object\n",
      " 1   Message         1494 non-null   object\n",
      " 2   Message Length  1494 non-null   int64 \n",
      " 3   Value           1494 non-null   int64 \n",
      "dtypes: int64(2), object(2)\n",
      "memory usage: 46.8+ KB\n"
     ]
    }
   ],
   "source": [
    "df1.info()"
   ]
  },
  {
   "cell_type": "code",
   "execution_count": 27,
   "id": "eeaa9dee",
   "metadata": {},
   "outputs": [],
   "source": [
    "# Creating dataframe\n",
    "new_dataframe = pd.DataFrame(data = embed)\n",
    "target=df1[\"Value\"]"
   ]
  },
  {
   "cell_type": "code",
   "execution_count": 28,
   "id": "dd84861d",
   "metadata": {},
   "outputs": [],
   "source": [
    "# Dataframe concatenation\n",
    "df_final = pd.concat([new_dataframe,target],axis=1)"
   ]
  },
  {
   "cell_type": "code",
   "execution_count": 29,
   "id": "a2f6024c",
   "metadata": {},
   "outputs": [
    {
     "data": {
      "text/html": [
       "<div>\n",
       "<style scoped>\n",
       "    .dataframe tbody tr th:only-of-type {\n",
       "        vertical-align: middle;\n",
       "    }\n",
       "\n",
       "    .dataframe tbody tr th {\n",
       "        vertical-align: top;\n",
       "    }\n",
       "\n",
       "    .dataframe thead th {\n",
       "        text-align: right;\n",
       "    }\n",
       "</style>\n",
       "<table border=\"1\" class=\"dataframe\">\n",
       "  <thead>\n",
       "    <tr style=\"text-align: right;\">\n",
       "      <th></th>\n",
       "      <th>0</th>\n",
       "      <th>1</th>\n",
       "      <th>2</th>\n",
       "      <th>3</th>\n",
       "      <th>4</th>\n",
       "      <th>5</th>\n",
       "      <th>6</th>\n",
       "      <th>7</th>\n",
       "      <th>8</th>\n",
       "      <th>9</th>\n",
       "      <th>...</th>\n",
       "      <th>191</th>\n",
       "      <th>192</th>\n",
       "      <th>193</th>\n",
       "      <th>194</th>\n",
       "      <th>195</th>\n",
       "      <th>196</th>\n",
       "      <th>197</th>\n",
       "      <th>198</th>\n",
       "      <th>199</th>\n",
       "      <th>Value</th>\n",
       "    </tr>\n",
       "  </thead>\n",
       "  <tbody>\n",
       "    <tr>\n",
       "      <th>0</th>\n",
       "      <td>0</td>\n",
       "      <td>0</td>\n",
       "      <td>0</td>\n",
       "      <td>0</td>\n",
       "      <td>0</td>\n",
       "      <td>0</td>\n",
       "      <td>0</td>\n",
       "      <td>0</td>\n",
       "      <td>0</td>\n",
       "      <td>0</td>\n",
       "      <td>...</td>\n",
       "      <td>9399</td>\n",
       "      <td>5142</td>\n",
       "      <td>5213</td>\n",
       "      <td>2808</td>\n",
       "      <td>4862</td>\n",
       "      <td>8633</td>\n",
       "      <td>8127</td>\n",
       "      <td>4708</td>\n",
       "      <td>2307</td>\n",
       "      <td>1</td>\n",
       "    </tr>\n",
       "    <tr>\n",
       "      <th>1</th>\n",
       "      <td>0</td>\n",
       "      <td>0</td>\n",
       "      <td>0</td>\n",
       "      <td>0</td>\n",
       "      <td>0</td>\n",
       "      <td>0</td>\n",
       "      <td>0</td>\n",
       "      <td>0</td>\n",
       "      <td>0</td>\n",
       "      <td>0</td>\n",
       "      <td>...</td>\n",
       "      <td>3451</td>\n",
       "      <td>910</td>\n",
       "      <td>5654</td>\n",
       "      <td>890</td>\n",
       "      <td>5213</td>\n",
       "      <td>8663</td>\n",
       "      <td>6573</td>\n",
       "      <td>8858</td>\n",
       "      <td>4832</td>\n",
       "      <td>1</td>\n",
       "    </tr>\n",
       "    <tr>\n",
       "      <th>2</th>\n",
       "      <td>0</td>\n",
       "      <td>0</td>\n",
       "      <td>0</td>\n",
       "      <td>0</td>\n",
       "      <td>0</td>\n",
       "      <td>0</td>\n",
       "      <td>0</td>\n",
       "      <td>0</td>\n",
       "      <td>0</td>\n",
       "      <td>0</td>\n",
       "      <td>...</td>\n",
       "      <td>0</td>\n",
       "      <td>0</td>\n",
       "      <td>0</td>\n",
       "      <td>0</td>\n",
       "      <td>2824</td>\n",
       "      <td>9399</td>\n",
       "      <td>5131</td>\n",
       "      <td>9399</td>\n",
       "      <td>2003</td>\n",
       "      <td>0</td>\n",
       "    </tr>\n",
       "    <tr>\n",
       "      <th>3</th>\n",
       "      <td>0</td>\n",
       "      <td>0</td>\n",
       "      <td>0</td>\n",
       "      <td>0</td>\n",
       "      <td>0</td>\n",
       "      <td>0</td>\n",
       "      <td>0</td>\n",
       "      <td>0</td>\n",
       "      <td>0</td>\n",
       "      <td>0</td>\n",
       "      <td>...</td>\n",
       "      <td>188</td>\n",
       "      <td>4911</td>\n",
       "      <td>7336</td>\n",
       "      <td>3396</td>\n",
       "      <td>606</td>\n",
       "      <td>5367</td>\n",
       "      <td>2381</td>\n",
       "      <td>6178</td>\n",
       "      <td>5347</td>\n",
       "      <td>1</td>\n",
       "    </tr>\n",
       "    <tr>\n",
       "      <th>4</th>\n",
       "      <td>0</td>\n",
       "      <td>0</td>\n",
       "      <td>0</td>\n",
       "      <td>0</td>\n",
       "      <td>0</td>\n",
       "      <td>0</td>\n",
       "      <td>0</td>\n",
       "      <td>0</td>\n",
       "      <td>0</td>\n",
       "      <td>0</td>\n",
       "      <td>...</td>\n",
       "      <td>4925</td>\n",
       "      <td>746</td>\n",
       "      <td>693</td>\n",
       "      <td>9347</td>\n",
       "      <td>2454</td>\n",
       "      <td>237</td>\n",
       "      <td>4862</td>\n",
       "      <td>9698</td>\n",
       "      <td>9794</td>\n",
       "      <td>1</td>\n",
       "    </tr>\n",
       "  </tbody>\n",
       "</table>\n",
       "<p>5 rows × 201 columns</p>\n",
       "</div>"
      ],
      "text/plain": [
       "   0  1  2  3  4  5  6  7  8  9  ...   191   192   193   194   195   196  \\\n",
       "0  0  0  0  0  0  0  0  0  0  0  ...  9399  5142  5213  2808  4862  8633   \n",
       "1  0  0  0  0  0  0  0  0  0  0  ...  3451   910  5654   890  5213  8663   \n",
       "2  0  0  0  0  0  0  0  0  0  0  ...     0     0     0     0  2824  9399   \n",
       "3  0  0  0  0  0  0  0  0  0  0  ...   188  4911  7336  3396   606  5367   \n",
       "4  0  0  0  0  0  0  0  0  0  0  ...  4925   746   693  9347  2454   237   \n",
       "\n",
       "    197   198   199  Value  \n",
       "0  8127  4708  2307      1  \n",
       "1  6573  8858  4832      1  \n",
       "2  5131  9399  2003      0  \n",
       "3  2381  6178  5347      1  \n",
       "4  4862  9698  9794      1  \n",
       "\n",
       "[5 rows x 201 columns]"
      ]
     },
     "execution_count": 29,
     "metadata": {},
     "output_type": "execute_result"
    }
   ],
   "source": [
    "df_final.head()"
   ]
  },
  {
   "cell_type": "code",
   "execution_count": 30,
   "id": "884f2fea",
   "metadata": {},
   "outputs": [],
   "source": [
    "# Splitting dataframe\n",
    "x = df_final.drop(\"Value\",axis=1)\n",
    "y = df_final[\"Value\"]"
   ]
  },
  {
   "cell_type": "code",
   "execution_count": 31,
   "id": "e91acc7e",
   "metadata": {},
   "outputs": [],
   "source": [
    "# Train test split\n",
    "xtrainval,xtest,ytrainval,ytest=train_test_split(x,y,random_state=42,test_size=0.15)"
   ]
  },
  {
   "cell_type": "code",
   "execution_count": 32,
   "id": "cc665c5e",
   "metadata": {},
   "outputs": [],
   "source": [
    "xtrain,xval,ytrain,yval=train_test_split(xtrainval,ytrainval,random_state=42,test_size=0.15)"
   ]
  },
  {
   "cell_type": "markdown",
   "id": "760d54ba",
   "metadata": {},
   "source": [
    "## 5.Model building"
   ]
  },
  {
   "cell_type": "code",
   "execution_count": 33,
   "id": "dda1e8a2",
   "metadata": {},
   "outputs": [],
   "source": [
    "model = Sequential()"
   ]
  },
  {
   "cell_type": "code",
   "execution_count": 34,
   "id": "bd8f51b2",
   "metadata": {},
   "outputs": [
    {
     "name": "stdout",
     "output_type": "stream",
     "text": [
      "Model: \"sequential\"\n",
      "_________________________________________________________________\n",
      " Layer (type)                Output Shape              Param #   \n",
      "=================================================================\n",
      " embedding (Embedding)       (None, 200, 100)          1000000   \n",
      "                                                                 \n",
      " lstm (LSTM)                 (None, 200, 128)          117248    \n",
      "                                                                 \n",
      " dropout (Dropout)           (None, 200, 128)          0         \n",
      "                                                                 \n",
      " lstm_1 (LSTM)               (None, 60)                45360     \n",
      "                                                                 \n",
      " dropout_1 (Dropout)         (None, 60)                0         \n",
      "                                                                 \n",
      " dense (Dense)               (None, 1)                 61        \n",
      "                                                                 \n",
      "=================================================================\n",
      "Total params: 1,162,669\n",
      "Trainable params: 1,162,669\n",
      "Non-trainable params: 0\n",
      "_________________________________________________________________\n"
     ]
    }
   ],
   "source": [
    "feature_num = 100\n",
    "model.add(Embedding(input_dim=vocab,output_dim=feature_num,input_length=sen_len))\n",
    "model.add(LSTM(units=128,activation = 'relu',return_sequences=True))\n",
    "model.add(Dropout(0.2))\n",
    "#Layer2\n",
    "model.add(LSTM(units=60, activation = 'relu'))\n",
    "model.add(Dropout(0.3))\n",
    "#output layer\n",
    "model.add(Dense(units=1,activation=\"sigmoid\"))\n",
    "model.summary()"
   ]
  },
  {
   "cell_type": "code",
   "execution_count": 35,
   "id": "1a907b5e",
   "metadata": {},
   "outputs": [],
   "source": [
    "# Compilation of model\n",
    "model.compile(optimizer=Adam(learning_rate=0.001),loss='binary_crossentropy',metrics=[\"accuracy\"])"
   ]
  },
  {
   "cell_type": "markdown",
   "id": "8d12c251",
   "metadata": {},
   "source": [
    "## 6.Model Training"
   ]
  },
  {
   "cell_type": "code",
   "execution_count": 36,
   "id": "b3376822",
   "metadata": {},
   "outputs": [
    {
     "name": "stdout",
     "output_type": "stream",
     "text": [
      "Epoch 1/50\n",
      "34/34 [==============================] - 20s 483ms/step - loss: nan - accuracy: 0.5473 - val_loss: nan - val_accuracy: 0.4503\n",
      "Epoch 2/50\n",
      "34/34 [==============================] - 15s 427ms/step - loss: nan - accuracy: 0.5009 - val_loss: nan - val_accuracy: 0.4503\n",
      "Epoch 3/50\n",
      "34/34 [==============================] - 15s 425ms/step - loss: nan - accuracy: 0.5009 - val_loss: nan - val_accuracy: 0.4503\n",
      "Epoch 4/50\n",
      "34/34 [==============================] - 19s 552ms/step - loss: nan - accuracy: 0.5009 - val_loss: nan - val_accuracy: 0.4503\n",
      "Epoch 5/50\n",
      "34/34 [==============================] - 22s 635ms/step - loss: nan - accuracy: 0.5009 - val_loss: nan - val_accuracy: 0.4503\n",
      "Epoch 6/50\n",
      "34/34 [==============================] - 19s 554ms/step - loss: nan - accuracy: 0.5009 - val_loss: nan - val_accuracy: 0.4503\n",
      "Epoch 7/50\n",
      "34/34 [==============================] - 15s 447ms/step - loss: nan - accuracy: 0.5009 - val_loss: nan - val_accuracy: 0.4503\n",
      "Epoch 8/50\n",
      "34/34 [==============================] - 15s 443ms/step - loss: nan - accuracy: 0.5009 - val_loss: nan - val_accuracy: 0.4503\n",
      "Epoch 9/50\n",
      "34/34 [==============================] - 14s 418ms/step - loss: nan - accuracy: 0.5009 - val_loss: nan - val_accuracy: 0.4503\n",
      "Epoch 10/50\n",
      "34/34 [==============================] - 15s 450ms/step - loss: nan - accuracy: 0.5009 - val_loss: nan - val_accuracy: 0.4503\n",
      "Epoch 11/50\n",
      "34/34 [==============================] - 15s 434ms/step - loss: nan - accuracy: 0.5009 - val_loss: nan - val_accuracy: 0.4503\n",
      "Epoch 12/50\n",
      "34/34 [==============================] - 16s 464ms/step - loss: nan - accuracy: 0.5009 - val_loss: nan - val_accuracy: 0.4503\n",
      "Epoch 13/50\n",
      "34/34 [==============================] - 15s 430ms/step - loss: nan - accuracy: 0.5009 - val_loss: nan - val_accuracy: 0.4503\n",
      "Epoch 14/50\n",
      "34/34 [==============================] - 16s 468ms/step - loss: nan - accuracy: 0.5009 - val_loss: nan - val_accuracy: 0.4503\n",
      "Epoch 15/50\n",
      "34/34 [==============================] - 24s 700ms/step - loss: nan - accuracy: 0.5009 - val_loss: nan - val_accuracy: 0.4503\n",
      "Epoch 16/50\n",
      "34/34 [==============================] - 25s 707ms/step - loss: nan - accuracy: 0.5009 - val_loss: nan - val_accuracy: 0.4503\n",
      "Epoch 17/50\n",
      "34/34 [==============================] - 25s 745ms/step - loss: nan - accuracy: 0.5009 - val_loss: nan - val_accuracy: 0.4503\n",
      "Epoch 18/50\n",
      "34/34 [==============================] - 23s 661ms/step - loss: nan - accuracy: 0.5009 - val_loss: nan - val_accuracy: 0.4503\n",
      "Epoch 19/50\n",
      "34/34 [==============================] - 21s 633ms/step - loss: nan - accuracy: 0.5009 - val_loss: nan - val_accuracy: 0.4503\n",
      "Epoch 20/50\n",
      "34/34 [==============================] - 25s 746ms/step - loss: nan - accuracy: 0.5009 - val_loss: nan - val_accuracy: 0.4503\n",
      "Epoch 21/50\n",
      "34/34 [==============================] - 19s 549ms/step - loss: nan - accuracy: 0.5009 - val_loss: nan - val_accuracy: 0.4503\n",
      "Epoch 22/50\n",
      "34/34 [==============================] - 22s 653ms/step - loss: nan - accuracy: 0.5009 - val_loss: nan - val_accuracy: 0.4503\n",
      "Epoch 23/50\n",
      "34/34 [==============================] - 22s 640ms/step - loss: nan - accuracy: 0.5009 - val_loss: nan - val_accuracy: 0.4503\n",
      "Epoch 24/50\n",
      "34/34 [==============================] - 17s 514ms/step - loss: nan - accuracy: 0.5009 - val_loss: nan - val_accuracy: 0.4503\n",
      "Epoch 25/50\n",
      "34/34 [==============================] - 28s 836ms/step - loss: nan - accuracy: 0.5009 - val_loss: nan - val_accuracy: 0.4503\n",
      "Epoch 26/50\n",
      "34/34 [==============================] - 24s 712ms/step - loss: nan - accuracy: 0.5009 - val_loss: nan - val_accuracy: 0.4503\n",
      "Epoch 27/50\n",
      "34/34 [==============================] - 25s 744ms/step - loss: nan - accuracy: 0.5009 - val_loss: nan - val_accuracy: 0.4503\n",
      "Epoch 28/50\n",
      "34/34 [==============================] - 21s 630ms/step - loss: nan - accuracy: 0.5009 - val_loss: nan - val_accuracy: 0.4503\n",
      "Epoch 29/50\n",
      "34/34 [==============================] - 19s 565ms/step - loss: nan - accuracy: 0.5009 - val_loss: nan - val_accuracy: 0.4503\n",
      "Epoch 30/50\n",
      "34/34 [==============================] - 20s 581ms/step - loss: nan - accuracy: 0.5009 - val_loss: nan - val_accuracy: 0.4503\n",
      "Epoch 31/50\n",
      "34/34 [==============================] - 20s 604ms/step - loss: nan - accuracy: 0.5009 - val_loss: nan - val_accuracy: 0.4503\n",
      "Epoch 32/50\n",
      "34/34 [==============================] - 26s 773ms/step - loss: nan - accuracy: 0.5009 - val_loss: nan - val_accuracy: 0.4503\n",
      "Epoch 33/50\n",
      "34/34 [==============================] - 22s 646ms/step - loss: nan - accuracy: 0.5009 - val_loss: nan - val_accuracy: 0.4503\n",
      "Epoch 34/50\n",
      "34/34 [==============================] - 17s 500ms/step - loss: nan - accuracy: 0.5009 - val_loss: nan - val_accuracy: 0.4503\n",
      "Epoch 35/50\n",
      "34/34 [==============================] - 16s 459ms/step - loss: nan - accuracy: 0.5009 - val_loss: nan - val_accuracy: 0.4503\n",
      "Epoch 36/50\n",
      "34/34 [==============================] - 18s 519ms/step - loss: nan - accuracy: 0.5009 - val_loss: nan - val_accuracy: 0.4503\n",
      "Epoch 37/50\n",
      "34/34 [==============================] - 18s 517ms/step - loss: nan - accuracy: 0.5009 - val_loss: nan - val_accuracy: 0.4503\n",
      "Epoch 38/50\n",
      "34/34 [==============================] - 19s 553ms/step - loss: nan - accuracy: 0.5009 - val_loss: nan - val_accuracy: 0.4503\n",
      "Epoch 39/50\n",
      "34/34 [==============================] - 31s 936ms/step - loss: nan - accuracy: 0.5009 - val_loss: nan - val_accuracy: 0.4503\n",
      "Epoch 40/50\n",
      "34/34 [==============================] - 19s 566ms/step - loss: nan - accuracy: 0.5009 - val_loss: nan - val_accuracy: 0.4503\n",
      "Epoch 41/50\n",
      "34/34 [==============================] - 25s 736ms/step - loss: nan - accuracy: 0.5009 - val_loss: nan - val_accuracy: 0.4503\n",
      "Epoch 42/50\n",
      "34/34 [==============================] - 24s 700ms/step - loss: nan - accuracy: 0.5009 - val_loss: nan - val_accuracy: 0.4503\n",
      "Epoch 43/50\n",
      "34/34 [==============================] - 18s 544ms/step - loss: nan - accuracy: 0.5009 - val_loss: nan - val_accuracy: 0.4503\n",
      "Epoch 44/50\n",
      "34/34 [==============================] - 19s 556ms/step - loss: nan - accuracy: 0.5009 - val_loss: nan - val_accuracy: 0.4503\n",
      "Epoch 45/50\n",
      "34/34 [==============================] - 27s 819ms/step - loss: nan - accuracy: 0.5009 - val_loss: nan - val_accuracy: 0.4503\n",
      "Epoch 46/50\n",
      "34/34 [==============================] - 18s 545ms/step - loss: nan - accuracy: 0.5009 - val_loss: nan - val_accuracy: 0.4503\n",
      "Epoch 47/50\n",
      "34/34 [==============================] - 16s 483ms/step - loss: nan - accuracy: 0.5009 - val_loss: nan - val_accuracy: 0.4503\n",
      "Epoch 48/50\n",
      "34/34 [==============================] - 17s 498ms/step - loss: nan - accuracy: 0.5009 - val_loss: nan - val_accuracy: 0.4503\n",
      "Epoch 49/50\n",
      "34/34 [==============================] - 16s 462ms/step - loss: nan - accuracy: 0.5009 - val_loss: nan - val_accuracy: 0.4503\n",
      "Epoch 50/50\n",
      "34/34 [==============================] - 14s 399ms/step - loss: nan - accuracy: 0.5009 - val_loss: nan - val_accuracy: 0.4503\n"
     ]
    },
    {
     "data": {
      "text/plain": [
       "<keras.callbacks.History at 0x21b188da4f0>"
      ]
     },
     "execution_count": 36,
     "metadata": {},
     "output_type": "execute_result"
    }
   ],
   "source": [
    "# Model fit\n",
    "model.fit(xtrain,ytrain,validation_data=(xval,yval),epochs=50)"
   ]
  },
  {
   "cell_type": "code",
   "execution_count": 37,
   "id": "3015814c",
   "metadata": {},
   "outputs": [],
   "source": [
    "# prediction\n",
    "y_pred = model.predict(xtest)\n",
    "y_pred = (y_pred>0.5)"
   ]
  },
  {
   "cell_type": "code",
   "execution_count": 38,
   "id": "a7130386",
   "metadata": {},
   "outputs": [
    {
     "name": "stdout",
     "output_type": "stream",
     "text": [
      "Test Score:53.78%\n"
     ]
    }
   ],
   "source": [
    "# Model accuracy score\n",
    "score=accuracy_score(ytest,y_pred)\n",
    "print(\"Test Score:{:.2f}%\".format(score*100))"
   ]
  },
  {
   "cell_type": "markdown",
   "id": "7e10bc0e",
   "metadata": {},
   "source": [
    "## 7.Model Evaluation"
   ]
  },
  {
   "cell_type": "code",
   "execution_count": 39,
   "id": "32e623c2",
   "metadata": {},
   "outputs": [
    {
     "name": "stdout",
     "output_type": "stream",
     "text": [
      "8/8 [==============================] - 1s 130ms/step - loss: nan - accuracy: 0.5378\n"
     ]
    },
    {
     "data": {
      "text/plain": [
       "[nan, 0.5377777814865112]"
      ]
     },
     "execution_count": 39,
     "metadata": {},
     "output_type": "execute_result"
    }
   ],
   "source": [
    "model.evaluate(xtest,ytest)"
   ]
  },
  {
   "cell_type": "code",
   "execution_count": 40,
   "id": "81754fae",
   "metadata": {},
   "outputs": [],
   "source": [
    "def cls_message(model,msg):\n",
    "    msg = re.sub('[^a-zA-Z]',\" \",msg)\n",
    "    msg = msg.lower()\n",
    "    msg = msg.split()\n",
    "    msg = [stemmer.stem(words)\n",
    "           for words in msg\n",
    "           if words not in set(stopwords.words(\"english\"))\n",
    "          ]\n",
    "    msg = \" \".join(msg)\n",
    "    oneHot=[one_hot(msg,n=vocab)]\n",
    "    text=pad_sequences(oneHot,maxlen=sen_len,padding=\"pre\")\n",
    "    predict=model.predict(text)\n",
    "    if predict>0.5:\n",
    "        print(\"It is a spam\")   \n",
    "    else:\n",
    "        print(\"It is not a spam\")"
   ]
  },
  {
   "cell_type": "markdown",
   "id": "a855c94d",
   "metadata": {},
   "source": [
    "## 8.Testing"
   ]
  },
  {
   "cell_type": "code",
   "execution_count": 41,
   "id": "794283b3",
   "metadata": {},
   "outputs": [],
   "source": [
    "#message\n",
    "msg1 = \"Your gonna have to pick up a $1 burger for yourself on your way home. I can't even move. Pain is killing me.\"\n",
    "msg2 = \"Hurray!! You won a cash prize of 3000rs.\""
   ]
  },
  {
   "cell_type": "code",
   "execution_count": 42,
   "id": "a531b141",
   "metadata": {},
   "outputs": [
    {
     "name": "stdout",
     "output_type": "stream",
     "text": [
      "It is not a spam\n"
     ]
    }
   ],
   "source": [
    "cls_message(model,msg1)"
   ]
  },
  {
   "cell_type": "code",
   "execution_count": 43,
   "id": "5ada46b3",
   "metadata": {},
   "outputs": [
    {
     "name": "stdout",
     "output_type": "stream",
     "text": [
      "It is not a spam\n"
     ]
    }
   ],
   "source": [
    "cls_message(model,msg2)\n"
   ]
  }
 ],
 "metadata": {
  "kernelspec": {
   "display_name": "Python 3 (ipykernel)",
   "language": "python",
   "name": "python3"
  },
  "language_info": {
   "codemirror_mode": {
    "name": "ipython",
    "version": 3
   },
   "file_extension": ".py",
   "mimetype": "text/x-python",
   "name": "python",
   "nbconvert_exporter": "python",
   "pygments_lexer": "ipython3",
   "version": "3.9.7"
  }
 },
 "nbformat": 4,
 "nbformat_minor": 5
}
